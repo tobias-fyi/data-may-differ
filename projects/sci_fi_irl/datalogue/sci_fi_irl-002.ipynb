{
 "cells": [
  {
   "cell_type": "markdown",
   "metadata": {},
   "source": [
    "# Sci-fi IRL\n",
    "\n",
    "### A Data Storytelling Project by Tobias Reaper\n",
    "\n",
    "### ----  Datalogue 002 ----\n"
   ]
  },
  {
   "cell_type": "markdown",
   "metadata": {},
   "source": [
    "---"
   ]
  },
  {
   "cell_type": "markdown",
   "metadata": {},
   "source": [
    "### Resources\n",
    "\n",
    "- [PushShift API GitHub Repo](https://github.com/pushshift/api)\n",
    "- [New to PushShift? Read This!](https://www.reddit.com/r/pushshift/comments/bcxguf/new_to_pushshift_read_this_faq/)\n",
    "- [Python API Tutorial](https://www.dataquest.io/blog/python-api-tutorial/)"
   ]
  },
  {
   "cell_type": "markdown",
   "metadata": {},
   "source": [
    "---\n",
    "---"
   ]
  },
  {
   "cell_type": "markdown",
   "metadata": {},
   "source": [
    "### Imports"
   ]
  },
  {
   "cell_type": "code",
   "execution_count": 1,
   "metadata": {},
   "outputs": [],
   "source": [
    "# Three Musketeers\n",
    "import pandas as pd\n",
    "import numpy as np\n",
    "import matplotlib.pyplot as plt\n",
    "import seaborn as sns"
   ]
  },
  {
   "cell_type": "code",
   "execution_count": 25,
   "metadata": {},
   "outputs": [],
   "source": [
    "# For using the API\n",
    "import requests\n",
    "import json\n",
    "from pandas.io.json import json_normalize"
   ]
  },
  {
   "cell_type": "markdown",
   "metadata": {},
   "source": [
    "### Configuration"
   ]
  },
  {
   "cell_type": "code",
   "execution_count": 21,
   "metadata": {},
   "outputs": [],
   "source": [
    "# Set pandas display option to allow for more columns\n",
    "pd.set_option(\"display.max_columns\", 100)"
   ]
  },
  {
   "cell_type": "markdown",
   "metadata": {},
   "source": [
    "---"
   ]
  },
  {
   "cell_type": "code",
   "execution_count": 3,
   "metadata": {},
   "outputs": [],
   "source": [
    "# Send the request and save into response object\n",
    "response = requests.get(\"https://api.pushshift.io/reddit/search/comment/?q=utopia\")"
   ]
  },
  {
   "cell_type": "code",
   "execution_count": 31,
   "metadata": {},
   "outputs": [
    {
     "name": "stdout",
     "output_type": "stream",
     "text": [
      "200\n"
     ]
    }
   ],
   "source": [
    "# Look at the status code\n",
    "print(response.status_code)\n",
    "\n",
    "# Use assert to stop the notebook's execution if not 200\n",
    "assert response.status_code == 200\n",
    "\n",
    "# Parse the json response into a python object\n",
    "json_response = response.json()"
   ]
  },
  {
   "cell_type": "code",
   "execution_count": 24,
   "metadata": {},
   "outputs": [
    {
     "name": "stdout",
     "output_type": "stream",
     "text": [
      "200\n"
     ]
    },
    {
     "data": {
      "text/html": [
       "<div>\n",
       "<style scoped>\n",
       "    .dataframe tbody tr th:only-of-type {\n",
       "        vertical-align: middle;\n",
       "    }\n",
       "\n",
       "    .dataframe tbody tr th {\n",
       "        vertical-align: top;\n",
       "    }\n",
       "\n",
       "    .dataframe thead th {\n",
       "        text-align: right;\n",
       "    }\n",
       "</style>\n",
       "<table border=\"1\" class=\"dataframe\">\n",
       "  <thead>\n",
       "    <tr style=\"text-align: right;\">\n",
       "      <th></th>\n",
       "      <th>all_awardings</th>\n",
       "      <th>author</th>\n",
       "      <th>author_flair_background_color</th>\n",
       "      <th>author_flair_css_class</th>\n",
       "      <th>author_flair_richtext</th>\n",
       "      <th>author_flair_template_id</th>\n",
       "      <th>author_flair_text</th>\n",
       "      <th>author_flair_text_color</th>\n",
       "      <th>author_flair_type</th>\n",
       "      <th>author_fullname</th>\n",
       "      <th>author_patreon_flair</th>\n",
       "      <th>awarders</th>\n",
       "      <th>body</th>\n",
       "      <th>created_utc</th>\n",
       "      <th>gildings</th>\n",
       "      <th>id</th>\n",
       "      <th>is_submitter</th>\n",
       "      <th>link_id</th>\n",
       "      <th>locked</th>\n",
       "      <th>no_follow</th>\n",
       "      <th>parent_id</th>\n",
       "      <th>permalink</th>\n",
       "      <th>retrieved_on</th>\n",
       "      <th>score</th>\n",
       "      <th>send_replies</th>\n",
       "      <th>steward_reports</th>\n",
       "      <th>stickied</th>\n",
       "      <th>subreddit</th>\n",
       "      <th>subreddit_id</th>\n",
       "      <th>total_awards_received</th>\n",
       "    </tr>\n",
       "  </thead>\n",
       "  <tbody>\n",
       "    <tr>\n",
       "      <th>0</th>\n",
       "      <td>[]</td>\n",
       "      <td>1911isokiguess</td>\n",
       "      <td>None</td>\n",
       "      <td>None</td>\n",
       "      <td>[]</td>\n",
       "      <td>None</td>\n",
       "      <td>None</td>\n",
       "      <td>None</td>\n",
       "      <td>text</td>\n",
       "      <td>t2_13v8yy</td>\n",
       "      <td>False</td>\n",
       "      <td>[]</td>\n",
       "      <td>How doesn't anyone see this as the plan.\\n\\nRe...</td>\n",
       "      <td>1569421589</td>\n",
       "      <td>{}</td>\n",
       "      <td>f1egcet</td>\n",
       "      <td>False</td>\n",
       "      <td>t3_d90900</td>\n",
       "      <td>False</td>\n",
       "      <td>True</td>\n",
       "      <td>t3_d90900</td>\n",
       "      <td>/r/Firearms/comments/d90900/i_dont_think_we_sh...</td>\n",
       "      <td>1569421591</td>\n",
       "      <td>1</td>\n",
       "      <td>True</td>\n",
       "      <td>[]</td>\n",
       "      <td>False</td>\n",
       "      <td>Firearms</td>\n",
       "      <td>t5_2ryez</td>\n",
       "      <td>0</td>\n",
       "    </tr>\n",
       "    <tr>\n",
       "      <th>1</th>\n",
       "      <td>[]</td>\n",
       "      <td>Debates_are_Dumb</td>\n",
       "      <td>None</td>\n",
       "      <td>None</td>\n",
       "      <td>[]</td>\n",
       "      <td>None</td>\n",
       "      <td>None</td>\n",
       "      <td>None</td>\n",
       "      <td>text</td>\n",
       "      <td>t2_3spmj6ay</td>\n",
       "      <td>False</td>\n",
       "      <td>[]</td>\n",
       "      <td>I suggest attempting to narrow down the conver...</td>\n",
       "      <td>1569421294</td>\n",
       "      <td>{}</td>\n",
       "      <td>f1efw2b</td>\n",
       "      <td>False</td>\n",
       "      <td>t3_d91fsh</td>\n",
       "      <td>False</td>\n",
       "      <td>True</td>\n",
       "      <td>t3_d91fsh</td>\n",
       "      <td>/r/MoreTankieChapo/comments/d91fsh/i_challenge...</td>\n",
       "      <td>1569421295</td>\n",
       "      <td>1</td>\n",
       "      <td>True</td>\n",
       "      <td>[]</td>\n",
       "      <td>False</td>\n",
       "      <td>MoreTankieChapo</td>\n",
       "      <td>t5_zk52m</td>\n",
       "      <td>0</td>\n",
       "    </tr>\n",
       "  </tbody>\n",
       "</table>\n",
       "</div>"
      ],
      "text/plain": [
       "  all_awardings            author author_flair_background_color  \\\n",
       "0            []    1911isokiguess                          None   \n",
       "1            []  Debates_are_Dumb                          None   \n",
       "\n",
       "  author_flair_css_class author_flair_richtext author_flair_template_id  \\\n",
       "0                   None                    []                     None   \n",
       "1                   None                    []                     None   \n",
       "\n",
       "  author_flair_text author_flair_text_color author_flair_type author_fullname  \\\n",
       "0              None                    None              text       t2_13v8yy   \n",
       "1              None                    None              text     t2_3spmj6ay   \n",
       "\n",
       "   author_patreon_flair awarders  \\\n",
       "0                 False       []   \n",
       "1                 False       []   \n",
       "\n",
       "                                                body  created_utc gildings  \\\n",
       "0  How doesn't anyone see this as the plan.\\n\\nRe...   1569421589       {}   \n",
       "1  I suggest attempting to narrow down the conver...   1569421294       {}   \n",
       "\n",
       "        id  is_submitter    link_id  locked  no_follow  parent_id  \\\n",
       "0  f1egcet         False  t3_d90900   False       True  t3_d90900   \n",
       "1  f1efw2b         False  t3_d91fsh   False       True  t3_d91fsh   \n",
       "\n",
       "                                           permalink  retrieved_on  score  \\\n",
       "0  /r/Firearms/comments/d90900/i_dont_think_we_sh...    1569421591      1   \n",
       "1  /r/MoreTankieChapo/comments/d91fsh/i_challenge...    1569421295      1   \n",
       "\n",
       "   send_replies steward_reports  stickied        subreddit subreddit_id  \\\n",
       "0          True              []     False         Firearms     t5_2ryez   \n",
       "1          True              []     False  MoreTankieChapo     t5_zk52m   \n",
       "\n",
       "   total_awards_received  \n",
       "0                      0  \n",
       "1                      0  "
      ]
     },
     "execution_count": 24,
     "metadata": {},
     "output_type": "execute_result"
    }
   ],
   "source": [
    "# Convert the python object into a pandas dataframe\n",
    "# I did it this way in order to get around the whole pandas \"normalization\" workflow\n",
    "# If this turns out to be an inefficient way of going about it, I'll look into other methods\n",
    "df_1 = pd.DataFrame(json_response[\"data\"])\n",
    "df_1.head(2)"
   ]
  },
  {
   "cell_type": "code",
   "execution_count": 27,
   "metadata": {},
   "outputs": [
    {
     "data": {
      "text/html": [
       "<div>\n",
       "<style scoped>\n",
       "    .dataframe tbody tr th:only-of-type {\n",
       "        vertical-align: middle;\n",
       "    }\n",
       "\n",
       "    .dataframe tbody tr th {\n",
       "        vertical-align: top;\n",
       "    }\n",
       "\n",
       "    .dataframe thead th {\n",
       "        text-align: right;\n",
       "    }\n",
       "</style>\n",
       "<table border=\"1\" class=\"dataframe\">\n",
       "  <thead>\n",
       "    <tr style=\"text-align: right;\">\n",
       "      <th></th>\n",
       "      <th>all_awardings</th>\n",
       "      <th>author</th>\n",
       "      <th>author_flair_background_color</th>\n",
       "      <th>author_flair_css_class</th>\n",
       "      <th>author_flair_richtext</th>\n",
       "      <th>author_flair_template_id</th>\n",
       "      <th>author_flair_text</th>\n",
       "      <th>author_flair_text_color</th>\n",
       "      <th>author_flair_type</th>\n",
       "      <th>author_fullname</th>\n",
       "      <th>author_patreon_flair</th>\n",
       "      <th>awarders</th>\n",
       "      <th>body</th>\n",
       "      <th>created_utc</th>\n",
       "      <th>id</th>\n",
       "      <th>is_submitter</th>\n",
       "      <th>link_id</th>\n",
       "      <th>locked</th>\n",
       "      <th>no_follow</th>\n",
       "      <th>parent_id</th>\n",
       "      <th>permalink</th>\n",
       "      <th>retrieved_on</th>\n",
       "      <th>score</th>\n",
       "      <th>send_replies</th>\n",
       "      <th>steward_reports</th>\n",
       "      <th>stickied</th>\n",
       "      <th>subreddit</th>\n",
       "      <th>subreddit_id</th>\n",
       "      <th>total_awards_received</th>\n",
       "    </tr>\n",
       "  </thead>\n",
       "  <tbody>\n",
       "    <tr>\n",
       "      <th>0</th>\n",
       "      <td>[]</td>\n",
       "      <td>1911isokiguess</td>\n",
       "      <td>None</td>\n",
       "      <td>None</td>\n",
       "      <td>[]</td>\n",
       "      <td>None</td>\n",
       "      <td>None</td>\n",
       "      <td>None</td>\n",
       "      <td>text</td>\n",
       "      <td>t2_13v8yy</td>\n",
       "      <td>False</td>\n",
       "      <td>[]</td>\n",
       "      <td>How doesn't anyone see this as the plan.\\n\\nRe...</td>\n",
       "      <td>1569421589</td>\n",
       "      <td>f1egcet</td>\n",
       "      <td>False</td>\n",
       "      <td>t3_d90900</td>\n",
       "      <td>False</td>\n",
       "      <td>True</td>\n",
       "      <td>t3_d90900</td>\n",
       "      <td>/r/Firearms/comments/d90900/i_dont_think_we_sh...</td>\n",
       "      <td>1569421591</td>\n",
       "      <td>1</td>\n",
       "      <td>True</td>\n",
       "      <td>[]</td>\n",
       "      <td>False</td>\n",
       "      <td>Firearms</td>\n",
       "      <td>t5_2ryez</td>\n",
       "      <td>0</td>\n",
       "    </tr>\n",
       "    <tr>\n",
       "      <th>1</th>\n",
       "      <td>[]</td>\n",
       "      <td>Debates_are_Dumb</td>\n",
       "      <td>None</td>\n",
       "      <td>None</td>\n",
       "      <td>[]</td>\n",
       "      <td>None</td>\n",
       "      <td>None</td>\n",
       "      <td>None</td>\n",
       "      <td>text</td>\n",
       "      <td>t2_3spmj6ay</td>\n",
       "      <td>False</td>\n",
       "      <td>[]</td>\n",
       "      <td>I suggest attempting to narrow down the conver...</td>\n",
       "      <td>1569421294</td>\n",
       "      <td>f1efw2b</td>\n",
       "      <td>False</td>\n",
       "      <td>t3_d91fsh</td>\n",
       "      <td>False</td>\n",
       "      <td>True</td>\n",
       "      <td>t3_d91fsh</td>\n",
       "      <td>/r/MoreTankieChapo/comments/d91fsh/i_challenge...</td>\n",
       "      <td>1569421295</td>\n",
       "      <td>1</td>\n",
       "      <td>True</td>\n",
       "      <td>[]</td>\n",
       "      <td>False</td>\n",
       "      <td>MoreTankieChapo</td>\n",
       "      <td>t5_zk52m</td>\n",
       "      <td>0</td>\n",
       "    </tr>\n",
       "  </tbody>\n",
       "</table>\n",
       "</div>"
      ],
      "text/plain": [
       "  all_awardings            author author_flair_background_color  \\\n",
       "0            []    1911isokiguess                          None   \n",
       "1            []  Debates_are_Dumb                          None   \n",
       "\n",
       "  author_flair_css_class author_flair_richtext author_flair_template_id  \\\n",
       "0                   None                    []                     None   \n",
       "1                   None                    []                     None   \n",
       "\n",
       "  author_flair_text author_flair_text_color author_flair_type author_fullname  \\\n",
       "0              None                    None              text       t2_13v8yy   \n",
       "1              None                    None              text     t2_3spmj6ay   \n",
       "\n",
       "   author_patreon_flair awarders  \\\n",
       "0                 False       []   \n",
       "1                 False       []   \n",
       "\n",
       "                                                body  created_utc       id  \\\n",
       "0  How doesn't anyone see this as the plan.\\n\\nRe...   1569421589  f1egcet   \n",
       "1  I suggest attempting to narrow down the conver...   1569421294  f1efw2b   \n",
       "\n",
       "   is_submitter    link_id  locked  no_follow  parent_id  \\\n",
       "0         False  t3_d90900   False       True  t3_d90900   \n",
       "1         False  t3_d91fsh   False       True  t3_d91fsh   \n",
       "\n",
       "                                           permalink  retrieved_on  score  \\\n",
       "0  /r/Firearms/comments/d90900/i_dont_think_we_sh...    1569421591      1   \n",
       "1  /r/MoreTankieChapo/comments/d91fsh/i_challenge...    1569421295      1   \n",
       "\n",
       "   send_replies steward_reports  stickied        subreddit subreddit_id  \\\n",
       "0          True              []     False         Firearms     t5_2ryez   \n",
       "1          True              []     False  MoreTankieChapo     t5_zk52m   \n",
       "\n",
       "   total_awards_received  \n",
       "0                      0  \n",
       "1                      0  "
      ]
     },
     "execution_count": 27,
     "metadata": {},
     "output_type": "execute_result"
    }
   ],
   "source": [
    "# Alright, I'm going to try out the pandas normalize method\n",
    "# I found a stackoverflow answer that made it seem simple\n",
    "df_2 = json_normalize(json_response[\"data\"])\n",
    "df_2.head(2)\n",
    "\n",
    "# This looks to have done basically the same thing\n",
    "# The only thing that would make this better is if \n",
    "# I could remove the middle step of converting to python object"
   ]
  },
  {
   "cell_type": "markdown",
   "metadata": {},
   "source": [
    "---\n",
    "\n",
    "### Using aggs and other parameters"
   ]
  },
  {
   "cell_type": "code",
   "execution_count": null,
   "metadata": {},
   "outputs": [],
   "source": [
    "# Define what columns I actually need in the final dataframe\n",
    "# I can use these in the \"fields\" parameter to only return those fields - that is nice!\n",
    "keep_columns = [\n",
    "    \"author\",\n",
    "    \"body\",\n",
    "    \"created_utc\",\n",
    "    \"parent_id\",\n",
    "    \"permalink\",\n",
    "    \"retrieved_on\",\n",
    "    \"score\",\n",
    "    \"subreddit\",\n",
    "    \"subreddit_id\",\n",
    "]"
   ]
  },
  {
   "cell_type": "code",
   "execution_count": 40,
   "metadata": {},
   "outputs": [
    {
     "name": "stdout",
     "output_type": "stream",
     "text": [
      "https://api.pushshift.io/reddit/search/comment/?q=utopia&after=1y&aggs=created_utc&frequency=month&size=0\n"
     ]
    }
   ],
   "source": [
    "# Create a time aggregation to show the number of comments mentioning \"utopia\" each month over the past year\n",
    "\n",
    "keyword = \"utopia\"\n",
    "after = \"1y\"\n",
    "freq = \"month\"\n",
    "\n",
    "agg_1_url = f\"https://api.pushshift.io/reddit/search/comment/?q={keyword}&after={after}&aggs=created_utc&frequency={freq}&size=0\"\n",
    "print(agg_1_url)"
   ]
  },
  {
   "cell_type": "code",
   "execution_count": 41,
   "metadata": {},
   "outputs": [],
   "source": [
    "# Send the request and save into response object\n",
    "resp_agg_1 = requests.get(agg_1_url)"
   ]
  },
  {
   "cell_type": "code",
   "execution_count": 42,
   "metadata": {},
   "outputs": [
    {
     "name": "stdout",
     "output_type": "stream",
     "text": [
      "200\n"
     ]
    }
   ],
   "source": [
    "# Look at the status code\n",
    "print(resp_agg_1.status_code)\n",
    "\n",
    "# Use assert to stop the notebook's execution if not 200\n",
    "assert resp_agg_1.status_code == 200\n",
    "\n",
    "# Parse the json response into a python object\n",
    "json_resp_agg_1 = resp_agg_1.json()"
   ]
  },
  {
   "cell_type": "code",
   "execution_count": 45,
   "metadata": {},
   "outputs": [
    {
     "data": {
      "text/plain": [
       "{'aggs': {'created_utc': [{'doc_count': 1578, 'key': 1535760000},\n",
       "   {'doc_count': 8652, 'key': 1538352000},\n",
       "   {'doc_count': 8827, 'key': 1541030400},\n",
       "   {'doc_count': 9219, 'key': 1543622400},\n",
       "   {'doc_count': 10597, 'key': 1546300800},\n",
       "   {'doc_count': 9840, 'key': 1548979200},\n",
       "   {'doc_count': 10158, 'key': 1551398400},\n",
       "   {'doc_count': 10004, 'key': 1554076800},\n",
       "   {'doc_count': 10444, 'key': 1556668800},\n",
       "   {'doc_count': 10774, 'key': 1559347200},\n",
       "   {'doc_count': 11596, 'key': 1561939200},\n",
       "   {'doc_count': 11744, 'key': 1564617600},\n",
       "   {'doc_count': 8024, 'key': 1567296000}]},\n",
       " 'data': []}"
      ]
     },
     "execution_count": 45,
     "metadata": {},
     "output_type": "execute_result"
    }
   ],
   "source": [
    "# Take a look\n",
    "json_resp_agg_1"
   ]
  },
  {
   "cell_type": "code",
   "execution_count": 52,
   "metadata": {},
   "outputs": [
    {
     "data": {
      "text/html": [
       "<div>\n",
       "<style scoped>\n",
       "    .dataframe tbody tr th:only-of-type {\n",
       "        vertical-align: middle;\n",
       "    }\n",
       "\n",
       "    .dataframe tbody tr th {\n",
       "        vertical-align: top;\n",
       "    }\n",
       "\n",
       "    .dataframe thead th {\n",
       "        text-align: right;\n",
       "    }\n",
       "</style>\n",
       "<table border=\"1\" class=\"dataframe\">\n",
       "  <thead>\n",
       "    <tr style=\"text-align: right;\">\n",
       "      <th></th>\n",
       "      <th>doc_count</th>\n",
       "      <th>key</th>\n",
       "    </tr>\n",
       "  </thead>\n",
       "  <tbody>\n",
       "    <tr>\n",
       "      <th>0</th>\n",
       "      <td>1578</td>\n",
       "      <td>1535760000</td>\n",
       "    </tr>\n",
       "    <tr>\n",
       "      <th>1</th>\n",
       "      <td>8652</td>\n",
       "      <td>1538352000</td>\n",
       "    </tr>\n",
       "    <tr>\n",
       "      <th>2</th>\n",
       "      <td>8827</td>\n",
       "      <td>1541030400</td>\n",
       "    </tr>\n",
       "    <tr>\n",
       "      <th>3</th>\n",
       "      <td>9219</td>\n",
       "      <td>1543622400</td>\n",
       "    </tr>\n",
       "    <tr>\n",
       "      <th>4</th>\n",
       "      <td>10597</td>\n",
       "      <td>1546300800</td>\n",
       "    </tr>\n",
       "  </tbody>\n",
       "</table>\n",
       "</div>"
      ],
      "text/plain": [
       "   doc_count         key\n",
       "0       1578  1535760000\n",
       "1       8652  1538352000\n",
       "2       8827  1541030400\n",
       "3       9219  1543622400\n",
       "4      10597  1546300800"
      ]
     },
     "execution_count": 52,
     "metadata": {},
     "output_type": "execute_result"
    }
   ],
   "source": [
    "# Convert the python object into a pandas dataframe\n",
    "df_agg_1 = pd.DataFrame(json_resp_agg_1[\"aggs\"][\"created_utc\"])\n",
    "df_agg_1.head()"
   ]
  },
  {
   "cell_type": "code",
   "execution_count": 53,
   "metadata": {},
   "outputs": [
    {
     "data": {
      "text/html": [
       "<div>\n",
       "<style scoped>\n",
       "    .dataframe tbody tr th:only-of-type {\n",
       "        vertical-align: middle;\n",
       "    }\n",
       "\n",
       "    .dataframe tbody tr th {\n",
       "        vertical-align: top;\n",
       "    }\n",
       "\n",
       "    .dataframe thead th {\n",
       "        text-align: right;\n",
       "    }\n",
       "</style>\n",
       "<table border=\"1\" class=\"dataframe\">\n",
       "  <thead>\n",
       "    <tr style=\"text-align: right;\">\n",
       "      <th></th>\n",
       "      <th>doc_count</th>\n",
       "      <th>key</th>\n",
       "    </tr>\n",
       "  </thead>\n",
       "  <tbody>\n",
       "    <tr>\n",
       "      <th>0</th>\n",
       "      <td>1578</td>\n",
       "      <td>2018-09-01</td>\n",
       "    </tr>\n",
       "    <tr>\n",
       "      <th>1</th>\n",
       "      <td>8652</td>\n",
       "      <td>2018-10-01</td>\n",
       "    </tr>\n",
       "    <tr>\n",
       "      <th>2</th>\n",
       "      <td>8827</td>\n",
       "      <td>2018-11-01</td>\n",
       "    </tr>\n",
       "    <tr>\n",
       "      <th>3</th>\n",
       "      <td>9219</td>\n",
       "      <td>2018-12-01</td>\n",
       "    </tr>\n",
       "    <tr>\n",
       "      <th>4</th>\n",
       "      <td>10597</td>\n",
       "      <td>2019-01-01</td>\n",
       "    </tr>\n",
       "  </tbody>\n",
       "</table>\n",
       "</div>"
      ],
      "text/plain": [
       "   doc_count        key\n",
       "0       1578 2018-09-01\n",
       "1       8652 2018-10-01\n",
       "2       8827 2018-11-01\n",
       "3       9219 2018-12-01\n",
       "4      10597 2019-01-01"
      ]
     },
     "execution_count": 53,
     "metadata": {},
     "output_type": "execute_result"
    }
   ],
   "source": [
    "# Convert \"key\" into a datetime column\n",
    "df_agg_1[\"key\"] = pd.to_datetime(df_agg_1[\"key\"], unit=\"s\", origin=\"unix\")\n",
    "df_agg_1.head()"
   ]
  },
  {
   "cell_type": "code",
   "execution_count": null,
   "metadata": {},
   "outputs": [],
   "source": []
  },
  {
   "cell_type": "code",
   "execution_count": null,
   "metadata": {},
   "outputs": [],
   "source": []
  },
  {
   "cell_type": "code",
   "execution_count": null,
   "metadata": {},
   "outputs": [],
   "source": []
  },
  {
   "cell_type": "code",
   "execution_count": null,
   "metadata": {},
   "outputs": [],
   "source": []
  },
  {
   "cell_type": "markdown",
   "metadata": {},
   "source": [
    "---\n",
    "---"
   ]
  },
  {
   "cell_type": "markdown",
   "metadata": {},
   "source": [
    "# Examples and Inspiration"
   ]
  },
  {
   "cell_type": "markdown",
   "metadata": {},
   "source": [
    "---"
   ]
  },
  {
   "cell_type": "code",
   "execution_count": null,
   "metadata": {},
   "outputs": [],
   "source": []
  },
  {
   "cell_type": "code",
   "execution_count": null,
   "metadata": {},
   "outputs": [],
   "source": []
  },
  {
   "cell_type": "code",
   "execution_count": null,
   "metadata": {},
   "outputs": [],
   "source": []
  },
  {
   "cell_type": "code",
   "execution_count": null,
   "metadata": {},
   "outputs": [],
   "source": []
  },
  {
   "cell_type": "code",
   "execution_count": null,
   "metadata": {},
   "outputs": [],
   "source": []
  },
  {
   "cell_type": "code",
   "execution_count": null,
   "metadata": {},
   "outputs": [],
   "source": []
  },
  {
   "cell_type": "code",
   "execution_count": null,
   "metadata": {},
   "outputs": [],
   "source": []
  },
  {
   "cell_type": "code",
   "execution_count": null,
   "metadata": {},
   "outputs": [],
   "source": []
  },
  {
   "cell_type": "code",
   "execution_count": null,
   "metadata": {},
   "outputs": [],
   "source": []
  },
  {
   "cell_type": "code",
   "execution_count": null,
   "metadata": {},
   "outputs": [],
   "source": []
  },
  {
   "cell_type": "code",
   "execution_count": null,
   "metadata": {},
   "outputs": [],
   "source": []
  },
  {
   "cell_type": "code",
   "execution_count": null,
   "metadata": {},
   "outputs": [],
   "source": []
  }
 ],
 "metadata": {
  "kernelspec": {
   "display_name": "Python 3",
   "language": "python",
   "name": "python3"
  },
  "language_info": {
   "codemirror_mode": {
    "name": "ipython",
    "version": 3
   },
   "file_extension": ".py",
   "mimetype": "text/x-python",
   "name": "python",
   "nbconvert_exporter": "python",
   "pygments_lexer": "ipython3",
   "version": "3.7.3"
  }
 },
 "nbformat": 4,
 "nbformat_minor": 4
}
