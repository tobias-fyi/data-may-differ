{
 "cells": [
  {
   "cell_type": "markdown",
   "metadata": {},
   "source": [
    "# Sci-Fi IRL\n",
    "\n",
    "### A Data Storytelling Project by Tobias Reaper\n",
    "\n",
    "### ---- Datalogue 004 ----\n",
    "\n",
    "---\n",
    "---"
   ]
  },
  {
   "cell_type": "markdown",
   "metadata": {},
   "source": [
    "### Resources\n",
    "\n",
    "- [PushShift API GitHub Repo](https://github.com/pushshift/api)"
   ]
  },
  {
   "cell_type": "markdown",
   "metadata": {},
   "source": [
    "---"
   ]
  },
  {
   "cell_type": "markdown",
   "metadata": {},
   "source": [
    "### Pre-Session Notes"
   ]
  },
  {
   "cell_type": "markdown",
   "metadata": {},
   "source": [
    "After figuring out how to use the API yesterday, I ran into a wall as far as inspiration goes. \n",
    "\n",
    "> Now what?\n",
    "\n",
    "I can do all of the things I need to do to finish this project, but I realized that a simple query such as the frequency of mentions of the terms \"utopia\" and \"dystopia\" may not show anything interesting or give me any good meat to chew on in my analysis.\n",
    "\n",
    "I came up with some ideas to get me over that wall.\n",
    "\n",
    "Looking at differences across and between subreddits seems to be where I feel like the most interesting stories can be found. However, I'm not going to overwhelm myself with trying to encompass ALL THE SUBREDDITS with this project. That would go against the whole \"MVP\" ethos."
   ]
  },
  {
   "cell_type": "markdown",
   "metadata": {},
   "source": [
    "Here's what I'm going to do today / for this project...I'm going to:\n",
    "\n",
    "1. Choose a few subreddits from the list below that I believe will have interesting differences in certain areas\n",
    "2. Come up with a list of words that can be considered a measure of optimism or hope for the future\n",
    "3. Create a hypothesis regarding the words and the subreddits\n",
    "4. Gather data on the chosen words in the chosen subreddits using the PushShift API\n",
    "5. Explore the data with tables and visualizations\n",
    "6. Find the most compelling storytelling devices and base my writing off of those\n",
    "7. ???\n",
    "8. Profit"
   ]
  },
  {
   "cell_type": "markdown",
   "metadata": {},
   "source": [
    "---"
   ]
  },
  {
   "cell_type": "markdown",
   "metadata": {},
   "source": [
    "### 1. List of Subreddits, organized by category"
   ]
  },
  {
   "cell_type": "markdown",
   "metadata": {},
   "source": [
    "#### Entertainment\n",
    "\n",
    "- entertainment, 1.1m\n",
    "- scifi, 1.2m\n",
    "- sciencefiction, 113k\n",
    "- AskScienceFiction, 163k\n",
    "- WritingPrompts, 14.0m\n",
    "- writing, 888k\n",
    "- movies, 21.5m\n",
    "- gaming, 23.7m\n",
    "- books, 17.1m\n",
    "- suggestmeabook, 596k"
   ]
  },
  {
   "cell_type": "markdown",
   "metadata": {},
   "source": [
    "#### Science / Technology\n",
    "\n",
    "- Futurology, 14.2m\n",
    "- futureporn, 161k\n",
    "- space, 15.9m\n",
    "- technology, 8.2m\n",
    "- science, 22.4m\n",
    "- askscience, 18.1m\n",
    "- MachineLearning, 779k\n",
    "- artificial, 87.7k\n",
    "- TechNewsToday, 82.6k\n",
    "- EverythingScience, 175k"
   ]
  },
  {
   "cell_type": "markdown",
   "metadata": {},
   "source": [
    "#### Media / General\n",
    "\n",
    "- worldnews, 22.2m\n",
    "- news, 19m\n",
    "- politics, 5.4m\n",
    "- philosophy, 14.1m\n",
    "- conspiracy, 984k\n",
    "- skeptic, 134k\n",
    "- changemyview, 830k\n",
    "- AskReddit, 24.6m\n",
    "- environment, 608k\n",
    "- memes, 6.4m"
   ]
  },
  {
   "cell_type": "markdown",
   "metadata": {},
   "source": [
    "Of course nine subreddits per category might be a bit much. However, I think I'll start here and prune as needed along the way."
   ]
  },
  {
   "cell_type": "markdown",
   "metadata": {},
   "source": [
    "---"
   ]
  },
  {
   "cell_type": "markdown",
   "metadata": {},
   "source": [
    "### 2. List of Keywords"
   ]
  },
  {
   "cell_type": "markdown",
   "metadata": {},
   "source": [
    "I had the thought that using \"utopia\" and \"dystopia\" alone might cause the data and results to be biased because those are not in the vernacular of many. Therefore, it would bias the data toward those who consume sci-fi or are into futurism. While gathering data on these folks is somewhat the point of the analysis, I would think there to be other words that would provide more of a fair judgement of popular sentiment."
   ]
  },
  {
   "cell_type": "markdown",
   "metadata": {},
   "source": [
    "- Basic\n",
    "  - Utopia / Dystopia"
   ]
  },
  {
   "cell_type": "markdown",
   "metadata": {},
   "source": [
    "---\n",
    "---"
   ]
  },
  {
   "cell_type": "markdown",
   "metadata": {},
   "source": [
    "### Imports"
   ]
  },
  {
   "cell_type": "code",
   "execution_count": 1,
   "metadata": {},
   "outputs": [],
   "source": [
    "# Three Musketeers\n",
    "import pandas as pd\n",
    "import numpy as np\n",
    "import matplotlib.pyplot as plt"
   ]
  },
  {
   "cell_type": "code",
   "execution_count": 2,
   "metadata": {},
   "outputs": [],
   "source": [
    "# For using the API\n",
    "import requests\n",
    "# import json\n",
    "# from pandas.io.json import json_normalize"
   ]
  },
  {
   "cell_type": "code",
   "execution_count": 3,
   "metadata": {},
   "outputs": [],
   "source": [
    "# More advanced vizualizations\n",
    "from bokeh.plotting import figure, output_file, output_notebook, show\n",
    "from bokeh.models import NumeralTickFormatter, DatetimeTickFormatter"
   ]
  },
  {
   "cell_type": "markdown",
   "metadata": {},
   "source": [
    "---"
   ]
  },
  {
   "cell_type": "markdown",
   "metadata": {},
   "source": [
    "### Configuration"
   ]
  },
  {
   "cell_type": "code",
   "execution_count": 4,
   "metadata": {},
   "outputs": [],
   "source": [
    "# Set pandas display option to allow for more columns and rows\n",
    "pd.set_option(\"display.max_columns\", 100)\n",
    "pd.set_option(\"display.max_rows\", 500)"
   ]
  },
  {
   "cell_type": "markdown",
   "metadata": {},
   "source": [
    "---"
   ]
  },
  {
   "cell_type": "markdown",
   "metadata": {},
   "source": [
    "# MVP\n",
    "\n",
    "To start things out and get things rolling, I'm going to do a much simpler analysis of a single subreddit...\n",
    "\n",
    "> r/suggestmeabook\n",
    "\n",
    "The reason I'm choosing to use this particular subreddit is that an effective measure of the content people *actually* enjoy is what they will suggest to friends, colleagues, or strangers on the InterWebz"
   ]
  },
  {
   "cell_type": "markdown",
   "metadata": {},
   "source": [
    "---- ø ----"
   ]
  },
  {
   "cell_type": "markdown",
   "metadata": {},
   "source": [
    "## Notes"
   ]
  },
  {
   "cell_type": "markdown",
   "metadata": {},
   "source": [
    "#### 1. Abbreviations and variable names\n",
    "\n",
    "| Abbreviation  | Meaning |\n",
    "| ----- | ------------------ |\n",
    "| smab | suggestmeabook |"
   ]
  },
  {
   "cell_type": "markdown",
   "metadata": {},
   "source": [
    "---- ø ----"
   ]
  },
  {
   "cell_type": "code",
   "execution_count": 34,
   "metadata": {},
   "outputs": [
    {
     "name": "stdout",
     "output_type": "stream",
     "text": [
      "https://api.pushshift.io/reddit/search/comment/?q=utopian&subreddit=suggestmeabook&after=10y\n"
     ]
    }
   ],
   "source": [
    "# Comments that mention \"utopian\" in r/suggestmeabook\n",
    "\n",
    "q = \"utopian\"\n",
    "sub = \"suggestmeabook\"\n",
    "fields = [\n",
    "    \"author\",\n",
    "    \"body\",\n",
    "    \"created_utc\",\n",
    "    \"parent_id\",\n",
    "    \"score\",\n",
    "    \"subreddit\",\n",
    "]\n",
    "after = \"10y\"\n",
    "\n",
    "smab_utopia_url = f\"https://api.pushshift.io/reddit/search/comment/?q={q}&subreddit={sub}&fields={','.join(fields)}\"\n",
    "\n",
    "# smab_utopia_url = f\"https://api.pushshift.io/reddit/search/comment/?q={q}&subreddit={sub}&after={after}&fields={','.join(fields)}\"\n",
    "\n",
    "print(smab_utopia_url)"
   ]
  },
  {
   "cell_type": "code",
   "execution_count": 35,
   "metadata": {},
   "outputs": [],
   "source": [
    "# Send the request and save into response object\n",
    "resp_1 = requests.get(smab_utopia_url)"
   ]
  },
  {
   "cell_type": "code",
   "execution_count": 36,
   "metadata": {},
   "outputs": [
    {
     "name": "stdout",
     "output_type": "stream",
     "text": [
      "200\n"
     ]
    }
   ],
   "source": [
    "# Look at the status code\n",
    "print(resp_1.status_code)\n",
    "\n",
    "# Use assert to stop the notebook's execution if request fails (if not 200)\n",
    "assert resp_1.status_code == 200"
   ]
  },
  {
   "cell_type": "code",
   "execution_count": 37,
   "metadata": {},
   "outputs": [],
   "source": [
    "# Parse the json response into a python object\n",
    "json_resp_1 = resp_1.json()"
   ]
  },
  {
   "cell_type": "code",
   "execution_count": 43,
   "metadata": {},
   "outputs": [
    {
     "data": {
      "text/plain": [
       "[{'author': 'autowikibot',\n",
       "  'author_created_utc': 1388865420,\n",
       "  'author_flair_css_class': None,\n",
       "  'author_flair_text': None,\n",
       "  'author_fullname': 't2_enhq4',\n",
       "  'body': \"#####&amp;#009;\\n\\n######&amp;#009;\\n\\n####&amp;#009;\\n [**Mars trilogy**](https://en.wikipedia.org/wiki/Mars%20trilogy): [](#sfw) \\n\\n---\\n\\n&gt;\\n\\n&gt;The __Mars trilogy__ is a series of award-winning [science fiction novels](https://en.wikipedia.org/wiki/Science_fiction_novel) by [Kim Stanley Robinson](https://en.wikipedia.org/wiki/Kim_Stanley_Robinson) that chronicles the settlement and [terraforming of the planet Mars](https://en.wikipedia.org/wiki/Terraforming_of_Mars) through the intensely personal and detailed viewpoints of a wide variety of characters spanning almost two centuries. Ultimately more [utopian](https://en.wikipedia.org/wiki/Utopia) than [dystopian](https://en.wikipedia.org/wiki/Dystopia), the story focuses on [egalitarian](https://en.wikipedia.org/wiki/Egalitarianism), sociological, and scientific advances made on [Mars](https://en.wikipedia.org/wiki/Mars), while [Earth](https://en.wikipedia.org/wiki/Earth) suffers from [overpopulation](https://en.wikipedia.org/wiki/Human_overpopulation) and [ecological disaster](https://en.wikipedia.org/wiki/Ecological_disaster).\\n\\n&gt;The three novels are *Red Mars* (1993), *Green Mars* (1994), and *Blue Mars* (1996). *The Martians* (1999) is a collection of short stories set in the same [fictional universe](https://en.wikipedia.org/wiki/Fictional_universe). The main trilogy won a number of prestigious awards. *[Icehenge](https://en.wikipedia.org/wiki/Icehenge)* (1984), Robinson's first novel about Mars, is not set in this universe but deals with similar themes and plot elements. The trilogy shares some similarites with Robinson's more recent novel *[2312](https://en.wikipedia.org/wiki/2312_(novel\\\\))* (2012), for instance, the terraforming of Mars and the extreme longevity of the characters in both novels.\\n\\n&gt;====\\n\\n&gt;[**Image**](https://i.imgur.com/DKSkjZH.jpg) [^(i)](https://en.wikipedia.org/wiki/File:Red_mars.jpg)\\n\\n---\\n\\n^Interesting: [^Kim ^Stanley ^Robinson](https://en.wikipedia.org/wiki/Kim_Stanley_Robinson) ^| [^Mars](https://en.wikipedia.org/wiki/Mars) ^| [^Mars ^in ^fiction](https://en.wikipedia.org/wiki/Mars_in_fiction) ^| [^Terraforming](https://en.wikipedia.org/wiki/Terraforming) \\n\\n^Parent ^commenter ^can [^toggle ^NSFW](http://www.np.reddit.com/message/compose?to=autowikibot&amp;subject=AutoWikibot NSFW toggle&amp;message=%2Btoggle-nsfw+chqd9uk) ^or[](#or) [^delete](http://www.np.reddit.com/message/compose?to=autowikibot&amp;subject=AutoWikibot Deletion&amp;message=%2Bdelete+chqd9uk)^. ^Will ^also ^delete ^on ^comment ^score ^of ^-1 ^or ^less. ^| [^(FAQs)](http://www.np.reddit.com/r/autowikibot/wiki/index) ^| [^Mods](http://www.np.reddit.com/r/autowikibot/comments/1x013o/for_moderators_switches_commands_and_css/) ^| [^Magic ^Words](http://www.np.reddit.com/r/autowikibot/comments/1ux484/ask_wikibot/)\",\n",
       "  'controversiality': 0,\n",
       "  'created_utc': 1400978495,\n",
       "  'distinguished': None,\n",
       "  'gilded': 0,\n",
       "  'id': 'chqd9uk',\n",
       "  'link_id': 't3_26b7z1',\n",
       "  'nest_level': 2,\n",
       "  'parent_id': 't1_chqd9qv',\n",
       "  'reply_delay': 8,\n",
       "  'retrieved_on': 1433941760,\n",
       "  'score': 1,\n",
       "  'score_hidden': False,\n",
       "  'subreddit': 'suggestmeabook',\n",
       "  'subreddit_id': 't5_31t41'},\n",
       " {'author': 'autowikibot',\n",
       "  'author_created_utc': 1388865420,\n",
       "  'author_flair_css_class': None,\n",
       "  'author_flair_text': None,\n",
       "  'author_fullname': 't2_enhq4',\n",
       "  'body': \"#####&amp;#009;\\n\\n######&amp;#009;\\n\\n####&amp;#009;\\n [**Mars trilogy**](https://en.wikipedia.org/wiki/Mars%20trilogy): [](#sfw) \\n\\n---\\n\\n&gt;\\n\\n&gt;The __Mars trilogy__ is a series of award-winning [science fiction novels](https://en.wikipedia.org/wiki/Science_fiction_novel) by [Kim Stanley Robinson](https://en.wikipedia.org/wiki/Kim_Stanley_Robinson) that chronicles the settlement and [terraforming of the planet Mars](https://en.wikipedia.org/wiki/Terraforming_of_Mars) through the intensely personal and detailed viewpoints of a wide variety of characters spanning almost two centuries. Ultimately more [utopian](https://en.wikipedia.org/wiki/Utopia) than [dystopian](https://en.wikipedia.org/wiki/Dystopia), the story focuses on [egalitarian](https://en.wikipedia.org/wiki/Egalitarianism), sociological, and scientific advances made on [Mars](https://en.wikipedia.org/wiki/Mars), while [Earth](https://en.wikipedia.org/wiki/Earth) suffers from [overpopulation](https://en.wikipedia.org/wiki/Human_overpopulation) and [ecological disaster](https://en.wikipedia.org/wiki/Ecological_disaster).\\n\\n&gt;The three novels are *Red Mars* (1993), *Green Mars* (1994), and *Blue Mars* (1996). *The Martians* (1999) is a collection of short stories set in the same [fictional universe](https://en.wikipedia.org/wiki/Fictional_universe). The main trilogy won a number of prestigious awards. *[Icehenge](https://en.wikipedia.org/wiki/Icehenge)* (1984), Robinson's first novel about Mars, is not set in this universe but deals with similar themes and plot elements. The trilogy shares some similarites with Robinson's more recent novel *[2312](https://en.wikipedia.org/wiki/2312_(novel\\\\))* (2012), for instance, the terraforming of Mars and the extreme longevity of the characters in both novels.\\n\\n&gt;====\\n\\n&gt;[**Image**](https://i.imgur.com/JgjkqG7.jpg) [^(i)](https://en.wikipedia.org/wiki/File:Red_mars.jpg)\\n\\n---\\n\\n^Interesting: [^Kim ^Stanley ^Robinson](https://en.wikipedia.org/wiki/Kim_Stanley_Robinson) ^| [^Mars](https://en.wikipedia.org/wiki/Mars) ^| [^Mars ^in ^fiction](https://en.wikipedia.org/wiki/Mars_in_fiction) ^| [^Terraforming](https://en.wikipedia.org/wiki/Terraforming) \\n\\n^Parent ^commenter ^can [^toggle ^NSFW](http://www.np.reddit.com/message/compose?to=autowikibot&amp;subject=AutoWikibot NSFW toggle&amp;message=%2Btoggle-nsfw+ci1l9gq) ^or[](#or) [^delete](http://www.np.reddit.com/message/compose?to=autowikibot&amp;subject=AutoWikibot Deletion&amp;message=%2Bdelete+ci1l9gq)^. ^Will ^also ^delete ^on ^comment ^score ^of ^-1 ^or ^less. ^| [^(FAQs)](http://www.np.reddit.com/r/autowikibot/wiki/index) ^| [^Mods](http://www.np.reddit.com/r/autowikibot/comments/1x013o/for_moderators_switches_commands_and_css/) ^| [^Magic ^Words](http://www.np.reddit.com/r/autowikibot/comments/1ux484/ask_wikibot/)\",\n",
       "  'controversiality': 0,\n",
       "  'created_utc': 1402163538,\n",
       "  'distinguished': None,\n",
       "  'gilded': 0,\n",
       "  'id': 'ci1l9gq',\n",
       "  'link_id': 't3_27j18e',\n",
       "  'nest_level': 2,\n",
       "  'parent_id': 't1_ci1l9dj',\n",
       "  'reply_delay': 7,\n",
       "  'retrieved_on': 1434135738,\n",
       "  'score': 2,\n",
       "  'score_hidden': False,\n",
       "  'subreddit': 'suggestmeabook',\n",
       "  'subreddit_id': 't5_31t41'}]"
      ]
     },
     "execution_count": 43,
     "metadata": {},
     "output_type": "execute_result"
    }
   ],
   "source": [
    "# Check out the json\n",
    "json_resp_1[\"data\"][0:2]"
   ]
  },
  {
   "cell_type": "markdown",
   "metadata": {},
   "source": [
    "Although I might use other data for the visualizations,  this data has some very valuable information. Namely, I am able to browse the data to get a feel for the overall quality of the comments. If, for example, I looked through and found that the majority of the comments that mentioned the keyword `utopia` were not saying it in the context of describing (science-fiction) stories, I would not be able to explore the hypothesis I originally set out to test / the question I originally set out to answer or simply explore."
   ]
  },
  {
   "cell_type": "code",
   "execution_count": null,
   "metadata": {},
   "outputs": [],
   "source": []
  },
  {
   "cell_type": "markdown",
   "metadata": {},
   "source": [
    "---"
   ]
  },
  {
   "cell_type": "markdown",
   "metadata": {},
   "source": [
    "### Aggregated smab"
   ]
  },
  {
   "cell_type": "markdown",
   "metadata": {},
   "source": [
    "According to the [PushShift API Documentation](https://github.com/pushshift/api):\n",
    "\n",
    "> The size parameter was set to 0 because we are only interested in getting aggregation data and not comment data.  \n",
    "The aggregation data is returned in the response under the key aggs -> created_utc.\n",
    "\n",
    "With that in mind, I'm going to take out the `size=0` parameter in order to capture both the aggregation and the comments."
   ]
  },
  {
   "cell_type": "code",
   "execution_count": 57,
   "metadata": {},
   "outputs": [
    {
     "name": "stdout",
     "output_type": "stream",
     "text": [
      "https://api.pushshift.io/reddit/search/comment/?q=utopia&subreddit=suggestmeabook&aggs=created_utc&frequency=month\n"
     ]
    }
   ],
   "source": [
    "# Comments that mention \"utopia\" in r/suggestmeabook, aggregated by month\n",
    "\n",
    "q = \"utopia\"\n",
    "sub = \"suggestmeabook\"\n",
    "# before = \"27d\"\n",
    "aggs = \"created_utc\"\n",
    "freq = \"month\"\n",
    "\n",
    "smab_utopia_agg_url = f\"https://api.pushshift.io/reddit/search/comment/?q={q}&subreddit={sub}&aggs={aggs}&frequency={freq}\"\n",
    "\n",
    "print(smab_utopia_agg_url)"
   ]
  },
  {
   "cell_type": "code",
   "execution_count": 58,
   "metadata": {},
   "outputs": [],
   "source": [
    "# Send the request and save into response object\n",
    "resp_2 = requests.get(smab_utopia_agg_url)"
   ]
  },
  {
   "cell_type": "code",
   "execution_count": 59,
   "metadata": {},
   "outputs": [
    {
     "name": "stdout",
     "output_type": "stream",
     "text": [
      "200\n"
     ]
    }
   ],
   "source": [
    "# Look at the status code\n",
    "print(resp_2.status_code)\n",
    "\n",
    "# Use assert to stop the notebook's execution if request fails (if not 200)\n",
    "assert resp_2.status_code == 200"
   ]
  },
  {
   "cell_type": "code",
   "execution_count": 60,
   "metadata": {},
   "outputs": [],
   "source": [
    "# Parse the json response into a python object\n",
    "json_resp_2 = resp_2.json()"
   ]
  },
  {
   "cell_type": "code",
   "execution_count": 61,
   "metadata": {},
   "outputs": [
    {
     "data": {
      "text/plain": [
       "[{'doc_count': 4, 'key': 1398902400},\n",
       " {'doc_count': 4, 'key': 1401580800},\n",
       " {'doc_count': 2, 'key': 1404172800},\n",
       " {'doc_count': 5, 'key': 1406851200},\n",
       " {'doc_count': 9, 'key': 1409529600},\n",
       " {'doc_count': 1, 'key': 1412121600},\n",
       " {'doc_count': 4, 'key': 1414800000},\n",
       " {'doc_count': 5, 'key': 1417392000},\n",
       " {'doc_count': 6, 'key': 1420070400},\n",
       " {'doc_count': 11, 'key': 1422748800}]"
      ]
     },
     "execution_count": 61,
     "metadata": {},
     "output_type": "execute_result"
    }
   ],
   "source": [
    "# Eyeball the jerry-rigged head of the aggregated json\n",
    "json_resp_2[\"aggs\"][\"created_utc\"][0:10]"
   ]
  },
  {
   "cell_type": "code",
   "execution_count": 63,
   "metadata": {},
   "outputs": [
    {
     "data": {
      "text/plain": [
       "{'all_awardings': [],\n",
       " 'author': 'Elsbeth55',\n",
       " 'author_flair_background_color': None,\n",
       " 'author_flair_css_class': None,\n",
       " 'author_flair_richtext': [],\n",
       " 'author_flair_template_id': None,\n",
       " 'author_flair_text': None,\n",
       " 'author_flair_text_color': None,\n",
       " 'author_flair_type': 'text',\n",
       " 'author_fullname': 't2_u0n8csl',\n",
       " 'author_patreon_flair': False,\n",
       " 'body': 'Not exactly- but “Everfair” by Shawl reimagines the Belgian Congo as being reclaimed and established as a  utopia for natives from the Congo as well as enslaved people from America and other places.  There is an element of steampunk.',\n",
       " 'created_utc': 1569112901,\n",
       " 'gildings': {},\n",
       " 'id': 'f10i4lk',\n",
       " 'is_submitter': False,\n",
       " 'link_id': 't3_d7g2k9',\n",
       " 'locked': False,\n",
       " 'no_follow': True,\n",
       " 'parent_id': 't3_d7g2k9',\n",
       " 'permalink': '/r/suggestmeabook/comments/d7g2k9/this_probably_doesnt_exist_but_is_there_a_book/f10i4lk/',\n",
       " 'retrieved_on': 1569113149,\n",
       " 'score': 1,\n",
       " 'send_replies': True,\n",
       " 'steward_reports': [],\n",
       " 'stickied': False,\n",
       " 'subreddit': 'suggestmeabook',\n",
       " 'subreddit_id': 't5_31t41',\n",
       " 'total_awards_received': 0}"
      ]
     },
     "execution_count": 63,
     "metadata": {},
     "output_type": "execute_result"
    }
   ],
   "source": [
    "# Eyeball the full comment json\n",
    "json_resp_2[\"data\"][0]"
   ]
  },
  {
   "cell_type": "markdown",
   "metadata": {},
   "source": [
    "Looks like that worked! So I can combine the aggregate and non-aggregate queries into a single one"
   ]
  },
  {
   "cell_type": "code",
   "execution_count": 64,
   "metadata": {},
   "outputs": [
    {
     "data": {
      "text/html": [
       "<div>\n",
       "<style scoped>\n",
       "    .dataframe tbody tr th:only-of-type {\n",
       "        vertical-align: middle;\n",
       "    }\n",
       "\n",
       "    .dataframe tbody tr th {\n",
       "        vertical-align: top;\n",
       "    }\n",
       "\n",
       "    .dataframe thead th {\n",
       "        text-align: right;\n",
       "    }\n",
       "</style>\n",
       "<table border=\"1\" class=\"dataframe\">\n",
       "  <thead>\n",
       "    <tr style=\"text-align: right;\">\n",
       "      <th></th>\n",
       "      <th>doc_count</th>\n",
       "      <th>key</th>\n",
       "    </tr>\n",
       "  </thead>\n",
       "  <tbody>\n",
       "    <tr>\n",
       "      <th>0</th>\n",
       "      <td>4</td>\n",
       "      <td>1398902400</td>\n",
       "    </tr>\n",
       "    <tr>\n",
       "      <th>1</th>\n",
       "      <td>4</td>\n",
       "      <td>1401580800</td>\n",
       "    </tr>\n",
       "    <tr>\n",
       "      <th>2</th>\n",
       "      <td>2</td>\n",
       "      <td>1404172800</td>\n",
       "    </tr>\n",
       "    <tr>\n",
       "      <th>3</th>\n",
       "      <td>5</td>\n",
       "      <td>1406851200</td>\n",
       "    </tr>\n",
       "    <tr>\n",
       "      <th>4</th>\n",
       "      <td>9</td>\n",
       "      <td>1409529600</td>\n",
       "    </tr>\n",
       "  </tbody>\n",
       "</table>\n",
       "</div>"
      ],
      "text/plain": [
       "   doc_count         key\n",
       "0          4  1398902400\n",
       "1          4  1401580800\n",
       "2          2  1404172800\n",
       "3          5  1406851200\n",
       "4          9  1409529600"
      ]
     },
     "execution_count": 64,
     "metadata": {},
     "output_type": "execute_result"
    }
   ],
   "source": [
    "# Convert the python object into a pandas dataframe\n",
    "df_smab_agg = pd.DataFrame(json_resp_2[\"aggs\"][\"created_utc\"])\n",
    "df_smab_agg.head()"
   ]
  },
  {
   "cell_type": "code",
   "execution_count": 65,
   "metadata": {},
   "outputs": [
    {
     "data": {
      "text/html": [
       "<div>\n",
       "<style scoped>\n",
       "    .dataframe tbody tr th:only-of-type {\n",
       "        vertical-align: middle;\n",
       "    }\n",
       "\n",
       "    .dataframe tbody tr th {\n",
       "        vertical-align: top;\n",
       "    }\n",
       "\n",
       "    .dataframe thead th {\n",
       "        text-align: right;\n",
       "    }\n",
       "</style>\n",
       "<table border=\"1\" class=\"dataframe\">\n",
       "  <thead>\n",
       "    <tr style=\"text-align: right;\">\n",
       "      <th></th>\n",
       "      <th>doc_count</th>\n",
       "      <th>key</th>\n",
       "    </tr>\n",
       "  </thead>\n",
       "  <tbody>\n",
       "    <tr>\n",
       "      <th>0</th>\n",
       "      <td>4</td>\n",
       "      <td>2014-05-01</td>\n",
       "    </tr>\n",
       "    <tr>\n",
       "      <th>1</th>\n",
       "      <td>4</td>\n",
       "      <td>2014-06-01</td>\n",
       "    </tr>\n",
       "    <tr>\n",
       "      <th>2</th>\n",
       "      <td>2</td>\n",
       "      <td>2014-07-01</td>\n",
       "    </tr>\n",
       "    <tr>\n",
       "      <th>3</th>\n",
       "      <td>5</td>\n",
       "      <td>2014-08-01</td>\n",
       "    </tr>\n",
       "    <tr>\n",
       "      <th>4</th>\n",
       "      <td>9</td>\n",
       "      <td>2014-09-01</td>\n",
       "    </tr>\n",
       "  </tbody>\n",
       "</table>\n",
       "</div>"
      ],
      "text/plain": [
       "   doc_count        key\n",
       "0          4 2014-05-01\n",
       "1          4 2014-06-01\n",
       "2          2 2014-07-01\n",
       "3          5 2014-08-01\n",
       "4          9 2014-09-01"
      ]
     },
     "execution_count": 65,
     "metadata": {},
     "output_type": "execute_result"
    }
   ],
   "source": [
    "# Convert \"key\" into a datetime column\n",
    "df_smab_agg[\"key\"] = pd.to_datetime(df_smab_agg[\"key\"], unit=\"s\", origin=\"unix\")\n",
    "df_smab_agg.head()"
   ]
  },
  {
   "cell_type": "code",
   "execution_count": 79,
   "metadata": {},
   "outputs": [
    {
     "name": "stdout",
     "output_type": "stream",
     "text": [
      "(65, 2)\n"
     ]
    },
    {
     "data": {
      "text/html": [
       "<div>\n",
       "<style scoped>\n",
       "    .dataframe tbody tr th:only-of-type {\n",
       "        vertical-align: middle;\n",
       "    }\n",
       "\n",
       "    .dataframe tbody tr th {\n",
       "        vertical-align: top;\n",
       "    }\n",
       "\n",
       "    .dataframe thead th {\n",
       "        text-align: right;\n",
       "    }\n",
       "</style>\n",
       "<table border=\"1\" class=\"dataframe\">\n",
       "  <thead>\n",
       "    <tr style=\"text-align: right;\">\n",
       "      <th></th>\n",
       "      <th>utopia</th>\n",
       "      <th>month</th>\n",
       "    </tr>\n",
       "  </thead>\n",
       "  <tbody>\n",
       "    <tr>\n",
       "      <th>0</th>\n",
       "      <td>4</td>\n",
       "      <td>2014-05-01</td>\n",
       "    </tr>\n",
       "    <tr>\n",
       "      <th>1</th>\n",
       "      <td>4</td>\n",
       "      <td>2014-06-01</td>\n",
       "    </tr>\n",
       "    <tr>\n",
       "      <th>2</th>\n",
       "      <td>2</td>\n",
       "      <td>2014-07-01</td>\n",
       "    </tr>\n",
       "    <tr>\n",
       "      <th>3</th>\n",
       "      <td>5</td>\n",
       "      <td>2014-08-01</td>\n",
       "    </tr>\n",
       "    <tr>\n",
       "      <th>4</th>\n",
       "      <td>9</td>\n",
       "      <td>2014-09-01</td>\n",
       "    </tr>\n",
       "  </tbody>\n",
       "</table>\n",
       "</div>"
      ],
      "text/plain": [
       "   utopia      month\n",
       "0       4 2014-05-01\n",
       "1       4 2014-06-01\n",
       "2       2 2014-07-01\n",
       "3       5 2014-08-01\n",
       "4       9 2014-09-01"
      ]
     },
     "execution_count": 79,
     "metadata": {},
     "output_type": "execute_result"
    }
   ],
   "source": [
    "# Rename \"key\" to reflect the fact that it is the beginning of the time bucket\n",
    "# (in this case the month)\n",
    "df_smab_agg = df_smab_agg.rename(mapper={\"key\": \"month\", \"doc_count\": \"utopia\"}, axis=\"columns\")\n",
    "\n",
    "print(df_smab_agg.shape)\n",
    "df_smab_agg.head()"
   ]
  },
  {
   "cell_type": "code",
   "execution_count": 78,
   "metadata": {},
   "outputs": [
    {
     "name": "stdout",
     "output_type": "stream",
     "text": [
      "(25, 29)\n"
     ]
    },
    {
     "data": {
      "text/html": [
       "<div>\n",
       "<style scoped>\n",
       "    .dataframe tbody tr th:only-of-type {\n",
       "        vertical-align: middle;\n",
       "    }\n",
       "\n",
       "    .dataframe tbody tr th {\n",
       "        vertical-align: top;\n",
       "    }\n",
       "\n",
       "    .dataframe thead th {\n",
       "        text-align: right;\n",
       "    }\n",
       "</style>\n",
       "<table border=\"1\" class=\"dataframe\">\n",
       "  <thead>\n",
       "    <tr style=\"text-align: right;\">\n",
       "      <th></th>\n",
       "      <th>all_awardings</th>\n",
       "      <th>author</th>\n",
       "      <th>author_flair_background_color</th>\n",
       "      <th>author_flair_css_class</th>\n",
       "      <th>author_flair_richtext</th>\n",
       "      <th>author_flair_template_id</th>\n",
       "      <th>author_flair_text</th>\n",
       "      <th>author_flair_text_color</th>\n",
       "      <th>author_flair_type</th>\n",
       "      <th>author_fullname</th>\n",
       "      <th>author_patreon_flair</th>\n",
       "      <th>body</th>\n",
       "      <th>created_utc</th>\n",
       "      <th>gildings</th>\n",
       "      <th>id</th>\n",
       "      <th>is_submitter</th>\n",
       "      <th>link_id</th>\n",
       "      <th>locked</th>\n",
       "      <th>no_follow</th>\n",
       "      <th>parent_id</th>\n",
       "      <th>permalink</th>\n",
       "      <th>retrieved_on</th>\n",
       "      <th>score</th>\n",
       "      <th>send_replies</th>\n",
       "      <th>steward_reports</th>\n",
       "      <th>stickied</th>\n",
       "      <th>subreddit</th>\n",
       "      <th>subreddit_id</th>\n",
       "      <th>total_awards_received</th>\n",
       "    </tr>\n",
       "  </thead>\n",
       "  <tbody>\n",
       "    <tr>\n",
       "      <th>0</th>\n",
       "      <td>[]</td>\n",
       "      <td>Elsbeth55</td>\n",
       "      <td>None</td>\n",
       "      <td>None</td>\n",
       "      <td>[]</td>\n",
       "      <td>None</td>\n",
       "      <td>None</td>\n",
       "      <td>None</td>\n",
       "      <td>text</td>\n",
       "      <td>t2_u0n8csl</td>\n",
       "      <td>False</td>\n",
       "      <td>Not exactly- but “Everfair” by Shawl reimagine...</td>\n",
       "      <td>1569112901</td>\n",
       "      <td>{}</td>\n",
       "      <td>f10i4lk</td>\n",
       "      <td>False</td>\n",
       "      <td>t3_d7g2k9</td>\n",
       "      <td>False</td>\n",
       "      <td>True</td>\n",
       "      <td>t3_d7g2k9</td>\n",
       "      <td>/r/suggestmeabook/comments/d7g2k9/this_probabl...</td>\n",
       "      <td>1569113149</td>\n",
       "      <td>1</td>\n",
       "      <td>True</td>\n",
       "      <td>[]</td>\n",
       "      <td>False</td>\n",
       "      <td>suggestmeabook</td>\n",
       "      <td>t5_31t41</td>\n",
       "      <td>0</td>\n",
       "    </tr>\n",
       "    <tr>\n",
       "      <th>1</th>\n",
       "      <td>[]</td>\n",
       "      <td>IAintBlackNoMore</td>\n",
       "      <td>None</td>\n",
       "      <td>None</td>\n",
       "      <td>[]</td>\n",
       "      <td>None</td>\n",
       "      <td>None</td>\n",
       "      <td>None</td>\n",
       "      <td>text</td>\n",
       "      <td>t2_173ps5</td>\n",
       "      <td>False</td>\n",
       "      <td>Personally, I think starting with the classics...</td>\n",
       "      <td>1568935329</td>\n",
       "      <td>{}</td>\n",
       "      <td>f0u78mu</td>\n",
       "      <td>False</td>\n",
       "      <td>t3_d6lhb2</td>\n",
       "      <td>False</td>\n",
       "      <td>True</td>\n",
       "      <td>t3_d6lhb2</td>\n",
       "      <td>/r/suggestmeabook/comments/d6lhb2/learning_abo...</td>\n",
       "      <td>1568935365</td>\n",
       "      <td>1</td>\n",
       "      <td>True</td>\n",
       "      <td>[]</td>\n",
       "      <td>False</td>\n",
       "      <td>suggestmeabook</td>\n",
       "      <td>t5_31t41</td>\n",
       "      <td>0</td>\n",
       "    </tr>\n",
       "    <tr>\n",
       "      <th>2</th>\n",
       "      <td>[]</td>\n",
       "      <td>littlemisshockey</td>\n",
       "      <td>None</td>\n",
       "      <td>None</td>\n",
       "      <td>[]</td>\n",
       "      <td>None</td>\n",
       "      <td>None</td>\n",
       "      <td>None</td>\n",
       "      <td>text</td>\n",
       "      <td>t2_hhca2</td>\n",
       "      <td>False</td>\n",
       "      <td>I'd start with some of the classics: *The Art ...</td>\n",
       "      <td>1568935308</td>\n",
       "      <td>{}</td>\n",
       "      <td>f0u7773</td>\n",
       "      <td>False</td>\n",
       "      <td>t3_d6lhb2</td>\n",
       "      <td>False</td>\n",
       "      <td>True</td>\n",
       "      <td>t3_d6lhb2</td>\n",
       "      <td>/r/suggestmeabook/comments/d6lhb2/learning_abo...</td>\n",
       "      <td>1568935352</td>\n",
       "      <td>1</td>\n",
       "      <td>True</td>\n",
       "      <td>[]</td>\n",
       "      <td>False</td>\n",
       "      <td>suggestmeabook</td>\n",
       "      <td>t5_31t41</td>\n",
       "      <td>0</td>\n",
       "    </tr>\n",
       "    <tr>\n",
       "      <th>3</th>\n",
       "      <td>[]</td>\n",
       "      <td>PimpedUpMonk</td>\n",
       "      <td>None</td>\n",
       "      <td>None</td>\n",
       "      <td>[]</td>\n",
       "      <td>None</td>\n",
       "      <td>None</td>\n",
       "      <td>None</td>\n",
       "      <td>text</td>\n",
       "      <td>t2_go9g9</td>\n",
       "      <td>False</td>\n",
       "      <td>**The City and the Stars** from Arthur C. Clar...</td>\n",
       "      <td>1568927017</td>\n",
       "      <td>{}</td>\n",
       "      <td>f0tqfix</td>\n",
       "      <td>False</td>\n",
       "      <td>t3_d6k2vb</td>\n",
       "      <td>False</td>\n",
       "      <td>True</td>\n",
       "      <td>t3_d6k2vb</td>\n",
       "      <td>/r/suggestmeabook/comments/d6k2vb/utopian_futu...</td>\n",
       "      <td>1568927028</td>\n",
       "      <td>1</td>\n",
       "      <td>True</td>\n",
       "      <td>[]</td>\n",
       "      <td>False</td>\n",
       "      <td>suggestmeabook</td>\n",
       "      <td>t5_31t41</td>\n",
       "      <td>0</td>\n",
       "    </tr>\n",
       "    <tr>\n",
       "      <th>4</th>\n",
       "      <td>[]</td>\n",
       "      <td>kelseycadillac</td>\n",
       "      <td>None</td>\n",
       "      <td>None</td>\n",
       "      <td>[]</td>\n",
       "      <td>None</td>\n",
       "      <td>None</td>\n",
       "      <td>None</td>\n",
       "      <td>text</td>\n",
       "      <td>t2_3oxiw6vy</td>\n",
       "      <td>False</td>\n",
       "      <td>The Scorpio Races by Maggie Stiefvater (realis...</td>\n",
       "      <td>1568690636</td>\n",
       "      <td>{}</td>\n",
       "      <td>f0kx852</td>\n",
       "      <td>False</td>\n",
       "      <td>t3_d5ac37</td>\n",
       "      <td>False</td>\n",
       "      <td>True</td>\n",
       "      <td>t3_d5ac37</td>\n",
       "      <td>/r/suggestmeabook/comments/d5ac37/ya_books_for...</td>\n",
       "      <td>1568690637</td>\n",
       "      <td>1</td>\n",
       "      <td>True</td>\n",
       "      <td>[]</td>\n",
       "      <td>False</td>\n",
       "      <td>suggestmeabook</td>\n",
       "      <td>t5_31t41</td>\n",
       "      <td>0</td>\n",
       "    </tr>\n",
       "  </tbody>\n",
       "</table>\n",
       "</div>"
      ],
      "text/plain": [
       "  all_awardings            author author_flair_background_color  \\\n",
       "0            []         Elsbeth55                          None   \n",
       "1            []  IAintBlackNoMore                          None   \n",
       "2            []  littlemisshockey                          None   \n",
       "3            []      PimpedUpMonk                          None   \n",
       "4            []    kelseycadillac                          None   \n",
       "\n",
       "  author_flair_css_class author_flair_richtext author_flair_template_id  \\\n",
       "0                   None                    []                     None   \n",
       "1                   None                    []                     None   \n",
       "2                   None                    []                     None   \n",
       "3                   None                    []                     None   \n",
       "4                   None                    []                     None   \n",
       "\n",
       "  author_flair_text author_flair_text_color author_flair_type author_fullname  \\\n",
       "0              None                    None              text      t2_u0n8csl   \n",
       "1              None                    None              text       t2_173ps5   \n",
       "2              None                    None              text        t2_hhca2   \n",
       "3              None                    None              text        t2_go9g9   \n",
       "4              None                    None              text     t2_3oxiw6vy   \n",
       "\n",
       "   author_patreon_flair                                               body  \\\n",
       "0                 False  Not exactly- but “Everfair” by Shawl reimagine...   \n",
       "1                 False  Personally, I think starting with the classics...   \n",
       "2                 False  I'd start with some of the classics: *The Art ...   \n",
       "3                 False  **The City and the Stars** from Arthur C. Clar...   \n",
       "4                 False  The Scorpio Races by Maggie Stiefvater (realis...   \n",
       "\n",
       "   created_utc gildings       id  is_submitter    link_id  locked  no_follow  \\\n",
       "0   1569112901       {}  f10i4lk         False  t3_d7g2k9   False       True   \n",
       "1   1568935329       {}  f0u78mu         False  t3_d6lhb2   False       True   \n",
       "2   1568935308       {}  f0u7773         False  t3_d6lhb2   False       True   \n",
       "3   1568927017       {}  f0tqfix         False  t3_d6k2vb   False       True   \n",
       "4   1568690636       {}  f0kx852         False  t3_d5ac37   False       True   \n",
       "\n",
       "   parent_id                                          permalink  retrieved_on  \\\n",
       "0  t3_d7g2k9  /r/suggestmeabook/comments/d7g2k9/this_probabl...    1569113149   \n",
       "1  t3_d6lhb2  /r/suggestmeabook/comments/d6lhb2/learning_abo...    1568935365   \n",
       "2  t3_d6lhb2  /r/suggestmeabook/comments/d6lhb2/learning_abo...    1568935352   \n",
       "3  t3_d6k2vb  /r/suggestmeabook/comments/d6k2vb/utopian_futu...    1568927028   \n",
       "4  t3_d5ac37  /r/suggestmeabook/comments/d5ac37/ya_books_for...    1568690637   \n",
       "\n",
       "   score  send_replies steward_reports  stickied       subreddit subreddit_id  \\\n",
       "0      1          True              []     False  suggestmeabook     t5_31t41   \n",
       "1      1          True              []     False  suggestmeabook     t5_31t41   \n",
       "2      1          True              []     False  suggestmeabook     t5_31t41   \n",
       "3      1          True              []     False  suggestmeabook     t5_31t41   \n",
       "4      1          True              []     False  suggestmeabook     t5_31t41   \n",
       "\n",
       "   total_awards_received  \n",
       "0                      0  \n",
       "1                      0  \n",
       "2                      0  \n",
       "3                      0  \n",
       "4                      0  "
      ]
     },
     "execution_count": 78,
     "metadata": {},
     "output_type": "execute_result"
    }
   ],
   "source": [
    "# Convert the comments into a pandas dataframe\n",
    "df_smab_data = pd.DataFrame(json_resp_2[\"data\"])\n",
    "\n",
    "print(df_smab_data.shape)\n",
    "df_smab_data.head()"
   ]
  },
  {
   "cell_type": "markdown",
   "metadata": {},
   "source": [
    "---"
   ]
  },
  {
   "cell_type": "markdown",
   "metadata": {},
   "source": [
    "## MVP Func"
   ]
  },
  {
   "cell_type": "markdown",
   "metadata": {},
   "source": [
    "Combine the steps above into functions to make things faster"
   ]
  },
  {
   "cell_type": "code",
   "execution_count": 110,
   "metadata": {},
   "outputs": [],
   "source": [
    "def subreddit_agg(query, subreddit, frequency=\"month\", aggs=\"created_utc\"):\n",
    "    \"\"\"\n",
    "    Returns the JSON response of a PushShift API aggregate comment search as a Python dictionary.\n",
    "    \n",
    "    Note: if you're reading this note, that means that this function is still only written\n",
    "    with the intention of automating a specific set of actions for a specific project.\n",
    "    \n",
    "    ---- Arguments ----\n",
    "    query: (str) keyword to search.\n",
    "    subreddit: (str) subreddit name\n",
    "    frequency: (str) set the size of the time buckets.\n",
    "    aggs: (str) aggregate function name. Default is \"created_utc\".\n",
    "    (For more information, read the PushShift API Documentation.)\n",
    "    -------------------\n",
    "    \"\"\"\n",
    "    \n",
    "    # Build the query url based on endpoints and parameters \n",
    "    url = f\"https://api.pushshift.io/reddit/search/comment/?q={query}&subreddit={subreddit}&aggs={aggs}&frequency={frequency}\"\n",
    "    \n",
    "    # Send the request and save the response into the response object\n",
    "    response = requests.get(url)\n",
    "    \n",
    "    # Check the response; stop execution if failed\n",
    "    assert response.status_code == 200\n",
    "    \n",
    "    # Parse the JSON into a Python dictionary\n",
    "    # and return it for further processing\n",
    "    return response.json()"
   ]
  },
  {
   "cell_type": "code",
   "execution_count": 129,
   "metadata": {},
   "outputs": [],
   "source": [
    "def time_agg_df(data, keyword, frequency=\"month\"):\n",
    "    \"\"\"\n",
    "    Returns cleaned Pandas DataFrame of keyword frequency over time, given correctly-formatted Python dictionary.\n",
    "    Renames the frequency column to keyword; converts month to datetime.\n",
    "    \n",
    "    Note: if you're reading this note, that means that this function is still only written\n",
    "    with the intention of automating a specific set of actions for a specific project.\n",
    "    \n",
    "    ---- Arguments ----\n",
    "    data: (dict) Python dictionary converted from JSON API response.\n",
    "    keyword: (str) the keyword that was queried.\n",
    "    time_bucket: (str) size of time buckets, which is also the name of the resulting DataFrame column. Defaults to \"month\".\n",
    "    -------------------\n",
    "    \"\"\"\n",
    "    \n",
    "    # Convert the python object into a pandas dataframe\n",
    "    df = pd.DataFrame(data[\"aggs\"][\"created_utc\"])\n",
    "\n",
    "    # Convert \"key\" into a datetime column\n",
    "    df[\"key\"] = pd.to_datetime(df[\"key\"], unit=\"s\", origin=\"unix\")\n",
    "\n",
    "    # Rename \"key\" to reflect the fact that it is the beginning of the time bucket\n",
    "    df = df.rename(mapper={\"key\": frequency, \"doc_count\": keyword}, axis=\"columns\")\n",
    "    \n",
    "    # Return the DataFrame\n",
    "    return df"
   ]
  },
  {
   "cell_type": "code",
   "execution_count": 74,
   "metadata": {},
   "outputs": [],
   "source": [
    "# Function to convert the comment data into pandas dataframe\n",
    "def data_df(data):\n",
    "    \"\"\"\n",
    "    Returns Reddit comments in Pandas DataFrame, given the correctly-formatted Python dictionary.\n",
    "    \n",
    "    Note: if you're reading this note, that means that this function is still only written\n",
    "    with the intention of automating a specific set of actions for a specific project.\n",
    "    \n",
    "    ---- Arguments ----\n",
    "    data: (dict) Python dictionary converted from JSON API response.\n",
    "    -------------------\n",
    "    \"\"\"\n",
    "    \n",
    "    # Convert the comments into a pandas dataframe\n",
    "    df = pd.DataFrame(data[\"data\"])\n",
    "\n",
    "    # Return the DataFrame\n",
    "    return df"
   ]
  },
  {
   "cell_type": "code",
   "execution_count": 75,
   "metadata": {},
   "outputs": [],
   "source": [
    "def df_to_csv(data, filename):\n",
    "    \"\"\"\n",
    "    Basically just a wrapper around the Pandas `.to_csv()` method,\n",
    "    created to standardize the inputs and outputs.\n",
    "    \n",
    "    ---- Arguments ----\n",
    "    data: (pd.DataFrame) Pandas DataFrame to be saved as a csv.\n",
    "    filepath: (str) name or path of the file to be saved.\n",
    "    -------------------\n",
    "    \"\"\"\n",
    "    \n",
    "    # Saves the DataFrame to csv\n",
    "    data.to_csv(path_or_buf=filename)\n",
    "    \n",
    "    # And that's it, folks!"
   ]
  },
  {
   "cell_type": "markdown",
   "metadata": {},
   "source": [
    "---"
   ]
  },
  {
   "cell_type": "markdown",
   "metadata": {},
   "source": [
    "## Gather the Data"
   ]
  },
  {
   "cell_type": "code",
   "execution_count": 112,
   "metadata": {},
   "outputs": [],
   "source": [
    "# Comments that mention \"utopia\" (and, I'm assuming, \"utopian\" as well) in r/suggestmeabook, aggregated by month\n",
    "\n",
    "q = \"utopia\"\n",
    "sub = \"suggestmeabook\"\n",
    "\n",
    "# Make the request and create the Python dictionary\n",
    "smab_utopia_dict = subreddit_agg(q, sub, \"month\")\n",
    "\n",
    "# Parse the time aggregation to pd.DataFrame\n",
    "df_smab_agg_uto = time_agg_df(smab_utopia_dict, \"utopia\")"
   ]
  },
  {
   "cell_type": "code",
   "execution_count": 113,
   "metadata": {},
   "outputs": [
    {
     "name": "stdout",
     "output_type": "stream",
     "text": [
      "(65, 2)\n",
      "\n",
      "utopia             int64\n",
      "month     datetime64[ns]\n",
      "dtype: object\n",
      "\n"
     ]
    },
    {
     "data": {
      "text/html": [
       "<div>\n",
       "<style scoped>\n",
       "    .dataframe tbody tr th:only-of-type {\n",
       "        vertical-align: middle;\n",
       "    }\n",
       "\n",
       "    .dataframe tbody tr th {\n",
       "        vertical-align: top;\n",
       "    }\n",
       "\n",
       "    .dataframe thead th {\n",
       "        text-align: right;\n",
       "    }\n",
       "</style>\n",
       "<table border=\"1\" class=\"dataframe\">\n",
       "  <thead>\n",
       "    <tr style=\"text-align: right;\">\n",
       "      <th></th>\n",
       "      <th>utopia</th>\n",
       "      <th>month</th>\n",
       "    </tr>\n",
       "  </thead>\n",
       "  <tbody>\n",
       "    <tr>\n",
       "      <th>0</th>\n",
       "      <td>4</td>\n",
       "      <td>2014-05-01</td>\n",
       "    </tr>\n",
       "    <tr>\n",
       "      <th>1</th>\n",
       "      <td>4</td>\n",
       "      <td>2014-06-01</td>\n",
       "    </tr>\n",
       "    <tr>\n",
       "      <th>2</th>\n",
       "      <td>2</td>\n",
       "      <td>2014-07-01</td>\n",
       "    </tr>\n",
       "    <tr>\n",
       "      <th>3</th>\n",
       "      <td>5</td>\n",
       "      <td>2014-08-01</td>\n",
       "    </tr>\n",
       "    <tr>\n",
       "      <th>4</th>\n",
       "      <td>9</td>\n",
       "      <td>2014-09-01</td>\n",
       "    </tr>\n",
       "  </tbody>\n",
       "</table>\n",
       "</div>"
      ],
      "text/plain": [
       "   utopia      month\n",
       "0       4 2014-05-01\n",
       "1       4 2014-06-01\n",
       "2       2 2014-07-01\n",
       "3       5 2014-08-01\n",
       "4       9 2014-09-01"
      ]
     },
     "execution_count": 113,
     "metadata": {},
     "output_type": "execute_result"
    }
   ],
   "source": [
    "print(df_smab_agg_uto.shape)\n",
    "print()\n",
    "\n",
    "print(df_smab_agg_uto.dtypes)\n",
    "print()\n",
    "\n",
    "df_smab_agg_uto.head()"
   ]
  },
  {
   "cell_type": "code",
   "execution_count": 115,
   "metadata": {},
   "outputs": [],
   "source": [
    "# Comments that mention \"dystopia\" (and, I'm assuming, \"dystopian\" as well) in r/suggestmeabook, aggregated by month\n",
    "\n",
    "q = \"dystopia\"\n",
    "sub = \"suggestmeabook\"\n",
    "\n",
    "# Make the request and create the Python dictionary\n",
    "smab_dystopia_dict = subreddit_agg(q, sub, \"month\")\n",
    "\n",
    "# Parse the time aggregation to pd.DataFrame\n",
    "df_smab_agg_dys = time_agg_df(smab_dystopia_dict, \"dystopia\")"
   ]
  },
  {
   "cell_type": "code",
   "execution_count": 116,
   "metadata": {},
   "outputs": [
    {
     "name": "stdout",
     "output_type": "stream",
     "text": [
      "(65, 2)\n",
      "\n",
      "dystopia             int64\n",
      "month       datetime64[ns]\n",
      "dtype: object\n",
      "\n"
     ]
    },
    {
     "data": {
      "text/html": [
       "<div>\n",
       "<style scoped>\n",
       "    .dataframe tbody tr th:only-of-type {\n",
       "        vertical-align: middle;\n",
       "    }\n",
       "\n",
       "    .dataframe tbody tr th {\n",
       "        vertical-align: top;\n",
       "    }\n",
       "\n",
       "    .dataframe thead th {\n",
       "        text-align: right;\n",
       "    }\n",
       "</style>\n",
       "<table border=\"1\" class=\"dataframe\">\n",
       "  <thead>\n",
       "    <tr style=\"text-align: right;\">\n",
       "      <th></th>\n",
       "      <th>dystopia</th>\n",
       "      <th>month</th>\n",
       "    </tr>\n",
       "  </thead>\n",
       "  <tbody>\n",
       "    <tr>\n",
       "      <th>0</th>\n",
       "      <td>13</td>\n",
       "      <td>2014-05-01</td>\n",
       "    </tr>\n",
       "    <tr>\n",
       "      <th>1</th>\n",
       "      <td>9</td>\n",
       "      <td>2014-06-01</td>\n",
       "    </tr>\n",
       "    <tr>\n",
       "      <th>2</th>\n",
       "      <td>3</td>\n",
       "      <td>2014-07-01</td>\n",
       "    </tr>\n",
       "    <tr>\n",
       "      <th>3</th>\n",
       "      <td>9</td>\n",
       "      <td>2014-08-01</td>\n",
       "    </tr>\n",
       "    <tr>\n",
       "      <th>4</th>\n",
       "      <td>24</td>\n",
       "      <td>2014-09-01</td>\n",
       "    </tr>\n",
       "  </tbody>\n",
       "</table>\n",
       "</div>"
      ],
      "text/plain": [
       "   dystopia      month\n",
       "0        13 2014-05-01\n",
       "1         9 2014-06-01\n",
       "2         3 2014-07-01\n",
       "3         9 2014-08-01\n",
       "4        24 2014-09-01"
      ]
     },
     "execution_count": 116,
     "metadata": {},
     "output_type": "execute_result"
    }
   ],
   "source": [
    "# Take a look at the results\n",
    "print(df_smab_agg_dys.shape)\n",
    "print()\n",
    "\n",
    "print(df_smab_agg_dys.dtypes)\n",
    "print()\n",
    "\n",
    "df_smab_agg_dys.head()"
   ]
  },
  {
   "cell_type": "markdown",
   "metadata": {},
   "source": [
    "---\n",
    "\n",
    "### Joining Utopia and Dystopia"
   ]
  },
  {
   "cell_type": "code",
   "execution_count": 117,
   "metadata": {},
   "outputs": [
    {
     "data": {
      "text/html": [
       "<div>\n",
       "<style scoped>\n",
       "    .dataframe tbody tr th:only-of-type {\n",
       "        vertical-align: middle;\n",
       "    }\n",
       "\n",
       "    .dataframe tbody tr th {\n",
       "        vertical-align: top;\n",
       "    }\n",
       "\n",
       "    .dataframe thead th {\n",
       "        text-align: right;\n",
       "    }\n",
       "</style>\n",
       "<table border=\"1\" class=\"dataframe\">\n",
       "  <thead>\n",
       "    <tr style=\"text-align: right;\">\n",
       "      <th></th>\n",
       "      <th>utopia</th>\n",
       "      <th>month</th>\n",
       "      <th>dystopia</th>\n",
       "    </tr>\n",
       "  </thead>\n",
       "  <tbody>\n",
       "    <tr>\n",
       "      <th>0</th>\n",
       "      <td>4</td>\n",
       "      <td>2014-05-01</td>\n",
       "      <td>13</td>\n",
       "    </tr>\n",
       "    <tr>\n",
       "      <th>1</th>\n",
       "      <td>4</td>\n",
       "      <td>2014-06-01</td>\n",
       "      <td>9</td>\n",
       "    </tr>\n",
       "    <tr>\n",
       "      <th>2</th>\n",
       "      <td>2</td>\n",
       "      <td>2014-07-01</td>\n",
       "      <td>3</td>\n",
       "    </tr>\n",
       "    <tr>\n",
       "      <th>3</th>\n",
       "      <td>5</td>\n",
       "      <td>2014-08-01</td>\n",
       "      <td>9</td>\n",
       "    </tr>\n",
       "    <tr>\n",
       "      <th>4</th>\n",
       "      <td>9</td>\n",
       "      <td>2014-09-01</td>\n",
       "      <td>24</td>\n",
       "    </tr>\n",
       "  </tbody>\n",
       "</table>\n",
       "</div>"
      ],
      "text/plain": [
       "   utopia      month  dystopia\n",
       "0       4 2014-05-01        13\n",
       "1       4 2014-06-01         9\n",
       "2       2 2014-07-01         3\n",
       "3       5 2014-08-01         9\n",
       "4       9 2014-09-01        24"
      ]
     },
     "execution_count": 117,
     "metadata": {},
     "output_type": "execute_result"
    }
   ],
   "source": [
    "# Join the two dataframes together\n",
    "# - using \"inner\" because I only want rows with both\n",
    "\n",
    "df_smab_agg = pd.merge(df_smab_agg_uto, df_smab_agg_dys, how=\"inner\", on=\"month\")\n",
    "df_smab_agg.head()"
   ]
  },
  {
   "cell_type": "code",
   "execution_count": 118,
   "metadata": {},
   "outputs": [
    {
     "data": {
      "text/html": [
       "<div>\n",
       "<style scoped>\n",
       "    .dataframe tbody tr th:only-of-type {\n",
       "        vertical-align: middle;\n",
       "    }\n",
       "\n",
       "    .dataframe tbody tr th {\n",
       "        vertical-align: top;\n",
       "    }\n",
       "\n",
       "    .dataframe thead th {\n",
       "        text-align: right;\n",
       "    }\n",
       "</style>\n",
       "<table border=\"1\" class=\"dataframe\">\n",
       "  <thead>\n",
       "    <tr style=\"text-align: right;\">\n",
       "      <th></th>\n",
       "      <th>month</th>\n",
       "      <th>utopia</th>\n",
       "      <th>dystopia</th>\n",
       "    </tr>\n",
       "  </thead>\n",
       "  <tbody>\n",
       "    <tr>\n",
       "      <th>0</th>\n",
       "      <td>2014-05-01</td>\n",
       "      <td>4</td>\n",
       "      <td>13</td>\n",
       "    </tr>\n",
       "    <tr>\n",
       "      <th>1</th>\n",
       "      <td>2014-06-01</td>\n",
       "      <td>4</td>\n",
       "      <td>9</td>\n",
       "    </tr>\n",
       "    <tr>\n",
       "      <th>2</th>\n",
       "      <td>2014-07-01</td>\n",
       "      <td>2</td>\n",
       "      <td>3</td>\n",
       "    </tr>\n",
       "    <tr>\n",
       "      <th>3</th>\n",
       "      <td>2014-08-01</td>\n",
       "      <td>5</td>\n",
       "      <td>9</td>\n",
       "    </tr>\n",
       "    <tr>\n",
       "      <th>4</th>\n",
       "      <td>2014-09-01</td>\n",
       "      <td>9</td>\n",
       "      <td>24</td>\n",
       "    </tr>\n",
       "  </tbody>\n",
       "</table>\n",
       "</div>"
      ],
      "text/plain": [
       "       month  utopia  dystopia\n",
       "0 2014-05-01       4        13\n",
       "1 2014-06-01       4         9\n",
       "2 2014-07-01       2         3\n",
       "3 2014-08-01       5         9\n",
       "4 2014-09-01       9        24"
      ]
     },
     "execution_count": 118,
     "metadata": {},
     "output_type": "execute_result"
    }
   ],
   "source": [
    "# Reorder columns to get \"month\" first\n",
    "cols = [\"month\", \"utopia\", \"dystopia\"]\n",
    "\n",
    "df_smab_agg = df_smab_agg[cols]\n",
    "\n",
    "df_smab_agg.head()"
   ]
  },
  {
   "cell_type": "markdown",
   "metadata": {},
   "source": [
    "---"
   ]
  },
  {
   "cell_type": "markdown",
   "metadata": {},
   "source": [
    "## Visualization"
   ]
  },
  {
   "cell_type": "code",
   "execution_count": 119,
   "metadata": {},
   "outputs": [
    {
     "data": {
      "text/html": [
       "\n",
       "    <div class=\"bk-root\">\n",
       "        <a href=\"https://bokeh.pydata.org\" target=\"_blank\" class=\"bk-logo bk-logo-small bk-logo-notebook\"></a>\n",
       "        <span id=\"1787\">Loading BokehJS ...</span>\n",
       "    </div>"
      ]
     },
     "metadata": {},
     "output_type": "display_data"
    },
    {
     "data": {
      "application/javascript": [
       "\n",
       "(function(root) {\n",
       "  function now() {\n",
       "    return new Date();\n",
       "  }\n",
       "\n",
       "  var force = true;\n",
       "\n",
       "  if (typeof root._bokeh_onload_callbacks === \"undefined\" || force === true) {\n",
       "    root._bokeh_onload_callbacks = [];\n",
       "    root._bokeh_is_loading = undefined;\n",
       "  }\n",
       "\n",
       "  var JS_MIME_TYPE = 'application/javascript';\n",
       "  var HTML_MIME_TYPE = 'text/html';\n",
       "  var EXEC_MIME_TYPE = 'application/vnd.bokehjs_exec.v0+json';\n",
       "  var CLASS_NAME = 'output_bokeh rendered_html';\n",
       "\n",
       "  /**\n",
       "   * Render data to the DOM node\n",
       "   */\n",
       "  function render(props, node) {\n",
       "    var script = document.createElement(\"script\");\n",
       "    node.appendChild(script);\n",
       "  }\n",
       "\n",
       "  /**\n",
       "   * Handle when an output is cleared or removed\n",
       "   */\n",
       "  function handleClearOutput(event, handle) {\n",
       "    var cell = handle.cell;\n",
       "\n",
       "    var id = cell.output_area._bokeh_element_id;\n",
       "    var server_id = cell.output_area._bokeh_server_id;\n",
       "    // Clean up Bokeh references\n",
       "    if (id != null && id in Bokeh.index) {\n",
       "      Bokeh.index[id].model.document.clear();\n",
       "      delete Bokeh.index[id];\n",
       "    }\n",
       "\n",
       "    if (server_id !== undefined) {\n",
       "      // Clean up Bokeh references\n",
       "      var cmd = \"from bokeh.io.state import curstate; print(curstate().uuid_to_server['\" + server_id + \"'].get_sessions()[0].document.roots[0]._id)\";\n",
       "      cell.notebook.kernel.execute(cmd, {\n",
       "        iopub: {\n",
       "          output: function(msg) {\n",
       "            var id = msg.content.text.trim();\n",
       "            if (id in Bokeh.index) {\n",
       "              Bokeh.index[id].model.document.clear();\n",
       "              delete Bokeh.index[id];\n",
       "            }\n",
       "          }\n",
       "        }\n",
       "      });\n",
       "      // Destroy server and session\n",
       "      var cmd = \"import bokeh.io.notebook as ion; ion.destroy_server('\" + server_id + \"')\";\n",
       "      cell.notebook.kernel.execute(cmd);\n",
       "    }\n",
       "  }\n",
       "\n",
       "  /**\n",
       "   * Handle when a new output is added\n",
       "   */\n",
       "  function handleAddOutput(event, handle) {\n",
       "    var output_area = handle.output_area;\n",
       "    var output = handle.output;\n",
       "\n",
       "    // limit handleAddOutput to display_data with EXEC_MIME_TYPE content only\n",
       "    if ((output.output_type != \"display_data\") || (!output.data.hasOwnProperty(EXEC_MIME_TYPE))) {\n",
       "      return\n",
       "    }\n",
       "\n",
       "    var toinsert = output_area.element.find(\".\" + CLASS_NAME.split(' ')[0]);\n",
       "\n",
       "    if (output.metadata[EXEC_MIME_TYPE][\"id\"] !== undefined) {\n",
       "      toinsert[toinsert.length - 1].firstChild.textContent = output.data[JS_MIME_TYPE];\n",
       "      // store reference to embed id on output_area\n",
       "      output_area._bokeh_element_id = output.metadata[EXEC_MIME_TYPE][\"id\"];\n",
       "    }\n",
       "    if (output.metadata[EXEC_MIME_TYPE][\"server_id\"] !== undefined) {\n",
       "      var bk_div = document.createElement(\"div\");\n",
       "      bk_div.innerHTML = output.data[HTML_MIME_TYPE];\n",
       "      var script_attrs = bk_div.children[0].attributes;\n",
       "      for (var i = 0; i < script_attrs.length; i++) {\n",
       "        toinsert[toinsert.length - 1].firstChild.setAttribute(script_attrs[i].name, script_attrs[i].value);\n",
       "      }\n",
       "      // store reference to server id on output_area\n",
       "      output_area._bokeh_server_id = output.metadata[EXEC_MIME_TYPE][\"server_id\"];\n",
       "    }\n",
       "  }\n",
       "\n",
       "  function register_renderer(events, OutputArea) {\n",
       "\n",
       "    function append_mime(data, metadata, element) {\n",
       "      // create a DOM node to render to\n",
       "      var toinsert = this.create_output_subarea(\n",
       "        metadata,\n",
       "        CLASS_NAME,\n",
       "        EXEC_MIME_TYPE\n",
       "      );\n",
       "      this.keyboard_manager.register_events(toinsert);\n",
       "      // Render to node\n",
       "      var props = {data: data, metadata: metadata[EXEC_MIME_TYPE]};\n",
       "      render(props, toinsert[toinsert.length - 1]);\n",
       "      element.append(toinsert);\n",
       "      return toinsert\n",
       "    }\n",
       "\n",
       "    /* Handle when an output is cleared or removed */\n",
       "    events.on('clear_output.CodeCell', handleClearOutput);\n",
       "    events.on('delete.Cell', handleClearOutput);\n",
       "\n",
       "    /* Handle when a new output is added */\n",
       "    events.on('output_added.OutputArea', handleAddOutput);\n",
       "\n",
       "    /**\n",
       "     * Register the mime type and append_mime function with output_area\n",
       "     */\n",
       "    OutputArea.prototype.register_mime_type(EXEC_MIME_TYPE, append_mime, {\n",
       "      /* Is output safe? */\n",
       "      safe: true,\n",
       "      /* Index of renderer in `output_area.display_order` */\n",
       "      index: 0\n",
       "    });\n",
       "  }\n",
       "\n",
       "  // register the mime type if in Jupyter Notebook environment and previously unregistered\n",
       "  if (root.Jupyter !== undefined) {\n",
       "    var events = require('base/js/events');\n",
       "    var OutputArea = require('notebook/js/outputarea').OutputArea;\n",
       "\n",
       "    if (OutputArea.prototype.mime_types().indexOf(EXEC_MIME_TYPE) == -1) {\n",
       "      register_renderer(events, OutputArea);\n",
       "    }\n",
       "  }\n",
       "\n",
       "  \n",
       "  if (typeof (root._bokeh_timeout) === \"undefined\" || force === true) {\n",
       "    root._bokeh_timeout = Date.now() + 5000;\n",
       "    root._bokeh_failed_load = false;\n",
       "  }\n",
       "\n",
       "  var NB_LOAD_WARNING = {'data': {'text/html':\n",
       "     \"<div style='background-color: #fdd'>\\n\"+\n",
       "     \"<p>\\n\"+\n",
       "     \"BokehJS does not appear to have successfully loaded. If loading BokehJS from CDN, this \\n\"+\n",
       "     \"may be due to a slow or bad network connection. Possible fixes:\\n\"+\n",
       "     \"</p>\\n\"+\n",
       "     \"<ul>\\n\"+\n",
       "     \"<li>re-rerun `output_notebook()` to attempt to load from CDN again, or</li>\\n\"+\n",
       "     \"<li>use INLINE resources instead, as so:</li>\\n\"+\n",
       "     \"</ul>\\n\"+\n",
       "     \"<code>\\n\"+\n",
       "     \"from bokeh.resources import INLINE\\n\"+\n",
       "     \"output_notebook(resources=INLINE)\\n\"+\n",
       "     \"</code>\\n\"+\n",
       "     \"</div>\"}};\n",
       "\n",
       "  function display_loaded() {\n",
       "    var el = document.getElementById(\"1787\");\n",
       "    if (el != null) {\n",
       "      el.textContent = \"BokehJS is loading...\";\n",
       "    }\n",
       "    if (root.Bokeh !== undefined) {\n",
       "      if (el != null) {\n",
       "        el.textContent = \"BokehJS \" + root.Bokeh.version + \" successfully loaded.\";\n",
       "      }\n",
       "    } else if (Date.now() < root._bokeh_timeout) {\n",
       "      setTimeout(display_loaded, 100)\n",
       "    }\n",
       "  }\n",
       "\n",
       "\n",
       "  function run_callbacks() {\n",
       "    try {\n",
       "      root._bokeh_onload_callbacks.forEach(function(callback) {\n",
       "        if (callback != null)\n",
       "          callback();\n",
       "      });\n",
       "    } finally {\n",
       "      delete root._bokeh_onload_callbacks\n",
       "    }\n",
       "    console.debug(\"Bokeh: all callbacks have finished\");\n",
       "  }\n",
       "\n",
       "  function load_libs(css_urls, js_urls, callback) {\n",
       "    if (css_urls == null) css_urls = [];\n",
       "    if (js_urls == null) js_urls = [];\n",
       "\n",
       "    root._bokeh_onload_callbacks.push(callback);\n",
       "    if (root._bokeh_is_loading > 0) {\n",
       "      console.debug(\"Bokeh: BokehJS is being loaded, scheduling callback at\", now());\n",
       "      return null;\n",
       "    }\n",
       "    if (js_urls == null || js_urls.length === 0) {\n",
       "      run_callbacks();\n",
       "      return null;\n",
       "    }\n",
       "    console.debug(\"Bokeh: BokehJS not loaded, scheduling load and callback at\", now());\n",
       "    root._bokeh_is_loading = css_urls.length + js_urls.length;\n",
       "\n",
       "    function on_load() {\n",
       "      root._bokeh_is_loading--;\n",
       "      if (root._bokeh_is_loading === 0) {\n",
       "        console.debug(\"Bokeh: all BokehJS libraries/stylesheets loaded\");\n",
       "        run_callbacks()\n",
       "      }\n",
       "    }\n",
       "\n",
       "    function on_error() {\n",
       "      console.error(\"failed to load \" + url);\n",
       "    }\n",
       "\n",
       "    for (var i = 0; i < css_urls.length; i++) {\n",
       "      var url = css_urls[i];\n",
       "      const element = document.createElement(\"link\");\n",
       "      element.onload = on_load;\n",
       "      element.onerror = on_error;\n",
       "      element.rel = \"stylesheet\";\n",
       "      element.type = \"text/css\";\n",
       "      element.href = url;\n",
       "      console.debug(\"Bokeh: injecting link tag for BokehJS stylesheet: \", url);\n",
       "      document.body.appendChild(element);\n",
       "    }\n",
       "\n",
       "    for (var i = 0; i < js_urls.length; i++) {\n",
       "      var url = js_urls[i];\n",
       "      var element = document.createElement('script');\n",
       "      element.onload = on_load;\n",
       "      element.onerror = on_error;\n",
       "      element.async = false;\n",
       "      element.src = url;\n",
       "      console.debug(\"Bokeh: injecting script tag for BokehJS library: \", url);\n",
       "      document.head.appendChild(element);\n",
       "    }\n",
       "  };var element = document.getElementById(\"1787\");\n",
       "  if (element == null) {\n",
       "    console.error(\"Bokeh: ERROR: autoload.js configured with elementid '1787' but no matching script tag was found. \")\n",
       "    return false;\n",
       "  }\n",
       "\n",
       "  function inject_raw_css(css) {\n",
       "    const element = document.createElement(\"style\");\n",
       "    element.appendChild(document.createTextNode(css));\n",
       "    document.body.appendChild(element);\n",
       "  }\n",
       "\n",
       "  var js_urls = [\"https://cdn.pydata.org/bokeh/release/bokeh-1.3.4.min.js\", \"https://cdn.pydata.org/bokeh/release/bokeh-widgets-1.3.4.min.js\", \"https://cdn.pydata.org/bokeh/release/bokeh-tables-1.3.4.min.js\", \"https://cdn.pydata.org/bokeh/release/bokeh-gl-1.3.4.min.js\"];\n",
       "  var css_urls = [];\n",
       "\n",
       "  var inline_js = [\n",
       "    function(Bokeh) {\n",
       "      Bokeh.set_log_level(\"info\");\n",
       "    },\n",
       "    \n",
       "    function(Bokeh) {\n",
       "      \n",
       "    },\n",
       "    function(Bokeh) {} // ensure no trailing comma for IE\n",
       "  ];\n",
       "\n",
       "  function run_inline_js() {\n",
       "    \n",
       "    if ((root.Bokeh !== undefined) || (force === true)) {\n",
       "      for (var i = 0; i < inline_js.length; i++) {\n",
       "        inline_js[i].call(root, root.Bokeh);\n",
       "      }if (force === true) {\n",
       "        display_loaded();\n",
       "      }} else if (Date.now() < root._bokeh_timeout) {\n",
       "      setTimeout(run_inline_js, 100);\n",
       "    } else if (!root._bokeh_failed_load) {\n",
       "      console.log(\"Bokeh: BokehJS failed to load within specified timeout.\");\n",
       "      root._bokeh_failed_load = true;\n",
       "    } else if (force !== true) {\n",
       "      var cell = $(document.getElementById(\"1787\")).parents('.cell').data().cell;\n",
       "      cell.output_area.append_execute_result(NB_LOAD_WARNING)\n",
       "    }\n",
       "\n",
       "  }\n",
       "\n",
       "  if (root._bokeh_is_loading === 0) {\n",
       "    console.debug(\"Bokeh: BokehJS loaded, going straight to plotting\");\n",
       "    run_inline_js();\n",
       "  } else {\n",
       "    load_libs(css_urls, js_urls, function() {\n",
       "      console.debug(\"Bokeh: BokehJS plotting callback run at\", now());\n",
       "      run_inline_js();\n",
       "    });\n",
       "  }\n",
       "}(window));"
      ],
      "application/vnd.bokehjs_load.v0+json": "\n(function(root) {\n  function now() {\n    return new Date();\n  }\n\n  var force = true;\n\n  if (typeof root._bokeh_onload_callbacks === \"undefined\" || force === true) {\n    root._bokeh_onload_callbacks = [];\n    root._bokeh_is_loading = undefined;\n  }\n\n  \n\n  \n  if (typeof (root._bokeh_timeout) === \"undefined\" || force === true) {\n    root._bokeh_timeout = Date.now() + 5000;\n    root._bokeh_failed_load = false;\n  }\n\n  var NB_LOAD_WARNING = {'data': {'text/html':\n     \"<div style='background-color: #fdd'>\\n\"+\n     \"<p>\\n\"+\n     \"BokehJS does not appear to have successfully loaded. If loading BokehJS from CDN, this \\n\"+\n     \"may be due to a slow or bad network connection. Possible fixes:\\n\"+\n     \"</p>\\n\"+\n     \"<ul>\\n\"+\n     \"<li>re-rerun `output_notebook()` to attempt to load from CDN again, or</li>\\n\"+\n     \"<li>use INLINE resources instead, as so:</li>\\n\"+\n     \"</ul>\\n\"+\n     \"<code>\\n\"+\n     \"from bokeh.resources import INLINE\\n\"+\n     \"output_notebook(resources=INLINE)\\n\"+\n     \"</code>\\n\"+\n     \"</div>\"}};\n\n  function display_loaded() {\n    var el = document.getElementById(\"1787\");\n    if (el != null) {\n      el.textContent = \"BokehJS is loading...\";\n    }\n    if (root.Bokeh !== undefined) {\n      if (el != null) {\n        el.textContent = \"BokehJS \" + root.Bokeh.version + \" successfully loaded.\";\n      }\n    } else if (Date.now() < root._bokeh_timeout) {\n      setTimeout(display_loaded, 100)\n    }\n  }\n\n\n  function run_callbacks() {\n    try {\n      root._bokeh_onload_callbacks.forEach(function(callback) {\n        if (callback != null)\n          callback();\n      });\n    } finally {\n      delete root._bokeh_onload_callbacks\n    }\n    console.debug(\"Bokeh: all callbacks have finished\");\n  }\n\n  function load_libs(css_urls, js_urls, callback) {\n    if (css_urls == null) css_urls = [];\n    if (js_urls == null) js_urls = [];\n\n    root._bokeh_onload_callbacks.push(callback);\n    if (root._bokeh_is_loading > 0) {\n      console.debug(\"Bokeh: BokehJS is being loaded, scheduling callback at\", now());\n      return null;\n    }\n    if (js_urls == null || js_urls.length === 0) {\n      run_callbacks();\n      return null;\n    }\n    console.debug(\"Bokeh: BokehJS not loaded, scheduling load and callback at\", now());\n    root._bokeh_is_loading = css_urls.length + js_urls.length;\n\n    function on_load() {\n      root._bokeh_is_loading--;\n      if (root._bokeh_is_loading === 0) {\n        console.debug(\"Bokeh: all BokehJS libraries/stylesheets loaded\");\n        run_callbacks()\n      }\n    }\n\n    function on_error() {\n      console.error(\"failed to load \" + url);\n    }\n\n    for (var i = 0; i < css_urls.length; i++) {\n      var url = css_urls[i];\n      const element = document.createElement(\"link\");\n      element.onload = on_load;\n      element.onerror = on_error;\n      element.rel = \"stylesheet\";\n      element.type = \"text/css\";\n      element.href = url;\n      console.debug(\"Bokeh: injecting link tag for BokehJS stylesheet: \", url);\n      document.body.appendChild(element);\n    }\n\n    for (var i = 0; i < js_urls.length; i++) {\n      var url = js_urls[i];\n      var element = document.createElement('script');\n      element.onload = on_load;\n      element.onerror = on_error;\n      element.async = false;\n      element.src = url;\n      console.debug(\"Bokeh: injecting script tag for BokehJS library: \", url);\n      document.head.appendChild(element);\n    }\n  };var element = document.getElementById(\"1787\");\n  if (element == null) {\n    console.error(\"Bokeh: ERROR: autoload.js configured with elementid '1787' but no matching script tag was found. \")\n    return false;\n  }\n\n  function inject_raw_css(css) {\n    const element = document.createElement(\"style\");\n    element.appendChild(document.createTextNode(css));\n    document.body.appendChild(element);\n  }\n\n  var js_urls = [\"https://cdn.pydata.org/bokeh/release/bokeh-1.3.4.min.js\", \"https://cdn.pydata.org/bokeh/release/bokeh-widgets-1.3.4.min.js\", \"https://cdn.pydata.org/bokeh/release/bokeh-tables-1.3.4.min.js\", \"https://cdn.pydata.org/bokeh/release/bokeh-gl-1.3.4.min.js\"];\n  var css_urls = [];\n\n  var inline_js = [\n    function(Bokeh) {\n      Bokeh.set_log_level(\"info\");\n    },\n    \n    function(Bokeh) {\n      \n    },\n    function(Bokeh) {} // ensure no trailing comma for IE\n  ];\n\n  function run_inline_js() {\n    \n    if ((root.Bokeh !== undefined) || (force === true)) {\n      for (var i = 0; i < inline_js.length; i++) {\n        inline_js[i].call(root, root.Bokeh);\n      }if (force === true) {\n        display_loaded();\n      }} else if (Date.now() < root._bokeh_timeout) {\n      setTimeout(run_inline_js, 100);\n    } else if (!root._bokeh_failed_load) {\n      console.log(\"Bokeh: BokehJS failed to load within specified timeout.\");\n      root._bokeh_failed_load = true;\n    } else if (force !== true) {\n      var cell = $(document.getElementById(\"1787\")).parents('.cell').data().cell;\n      cell.output_area.append_execute_result(NB_LOAD_WARNING)\n    }\n\n  }\n\n  if (root._bokeh_is_loading === 0) {\n    console.debug(\"Bokeh: BokehJS loaded, going straight to plotting\");\n    run_inline_js();\n  } else {\n    load_libs(css_urls, js_urls, function() {\n      console.debug(\"Bokeh: BokehJS plotting callback run at\", now());\n      run_inline_js();\n    });\n  }\n}(window));"
     },
     "metadata": {},
     "output_type": "display_data"
    },
    {
     "data": {
      "text/html": [
       "\n",
       "\n",
       "\n",
       "\n",
       "\n",
       "\n",
       "  <div class=\"bk-root\" id=\"7647142a-a703-4a91-927f-b8365894f35d\" data-root-id=\"1788\"></div>\n"
      ]
     },
     "metadata": {},
     "output_type": "display_data"
    },
    {
     "data": {
      "application/javascript": [
       "(function(root) {\n",
       "  function embed_document(root) {\n",
       "    \n",
       "  var docs_json = {\"a65ba2fb-7684-4d42-a476-96098e8b9ed3\":{\"roots\":{\"references\":[{\"attributes\":{\"below\":[{\"id\":\"1799\",\"type\":\"DatetimeAxis\"}],\"center\":[{\"id\":\"1803\",\"type\":\"Grid\"},{\"id\":\"1808\",\"type\":\"Grid\"},{\"id\":\"1845\",\"type\":\"Legend\"}],\"left\":[{\"id\":\"1804\",\"type\":\"LinearAxis\"}],\"renderers\":[{\"id\":\"1825\",\"type\":\"GlyphRenderer\"},{\"id\":\"1850\",\"type\":\"GlyphRenderer\"}],\"title\":{\"id\":\"1789\",\"type\":\"Title\"},\"toolbar\":{\"id\":\"1815\",\"type\":\"Toolbar\"},\"x_range\":{\"id\":\"1791\",\"type\":\"DataRange1d\"},\"x_scale\":{\"id\":\"1795\",\"type\":\"LinearScale\"},\"y_range\":{\"id\":\"1793\",\"type\":\"DataRange1d\"},\"y_scale\":{\"id\":\"1797\",\"type\":\"LinearScale\"}},\"id\":\"1788\",\"subtype\":\"Figure\",\"type\":\"Plot\"},{\"attributes\":{\"days\":[1,8,15,22]},\"id\":\"1837\",\"type\":\"DaysTicker\"},{\"attributes\":{\"line_alpha\":0.1,\"line_color\":\"#1f77b4\",\"line_width\":2,\"x\":{\"field\":\"x\"},\"y\":{\"field\":\"y\"}},\"id\":\"1824\",\"type\":\"Line\"},{\"attributes\":{\"mantissas\":[1,2,5],\"max_interval\":500.0,\"num_minor_ticks\":0},\"id\":\"1832\",\"type\":\"AdaptiveTicker\"},{\"attributes\":{\"base\":60,\"mantissas\":[1,2,5,10,15,20,30],\"max_interval\":1800000.0,\"min_interval\":1000.0,\"num_minor_ticks\":0},\"id\":\"1833\",\"type\":\"AdaptiveTicker\"},{\"attributes\":{\"callback\":null},\"id\":\"1793\",\"type\":\"DataRange1d\"},{\"attributes\":{},\"id\":\"1795\",\"type\":\"LinearScale\"},{\"attributes\":{\"line_color\":\"red\",\"line_width\":2,\"x\":{\"field\":\"x\"},\"y\":{\"field\":\"y\"}},\"id\":\"1848\",\"type\":\"Line\"},{\"attributes\":{\"data_source\":{\"id\":\"1847\",\"type\":\"ColumnDataSource\"},\"glyph\":{\"id\":\"1848\",\"type\":\"Line\"},\"hover_glyph\":null,\"muted_glyph\":null,\"nonselection_glyph\":{\"id\":\"1849\",\"type\":\"Line\"},\"selection_glyph\":null,\"view\":{\"id\":\"1851\",\"type\":\"CDSView\"}},\"id\":\"1850\",\"type\":\"GlyphRenderer\"},{\"attributes\":{\"months\":[0,2,4,6,8,10]},\"id\":\"1840\",\"type\":\"MonthsTicker\"},{\"attributes\":{\"source\":{\"id\":\"1847\",\"type\":\"ColumnDataSource\"}},\"id\":\"1851\",\"type\":\"CDSView\"},{\"attributes\":{},\"id\":\"1805\",\"type\":\"BasicTicker\"},{\"attributes\":{},\"id\":\"1813\",\"type\":\"ResetTool\"},{\"attributes\":{\"dimension\":1,\"ticker\":{\"id\":\"1805\",\"type\":\"BasicTicker\"}},\"id\":\"1808\",\"type\":\"Grid\"},{\"attributes\":{},\"id\":\"1830\",\"type\":\"DatetimeTickFormatter\"},{\"attributes\":{},\"id\":\"1947\",\"type\":\"Selection\"},{\"attributes\":{\"months\":[0,6]},\"id\":\"1842\",\"type\":\"MonthsTicker\"},{\"attributes\":{\"num_minor_ticks\":5,\"tickers\":[{\"id\":\"1832\",\"type\":\"AdaptiveTicker\"},{\"id\":\"1833\",\"type\":\"AdaptiveTicker\"},{\"id\":\"1834\",\"type\":\"AdaptiveTicker\"},{\"id\":\"1835\",\"type\":\"DaysTicker\"},{\"id\":\"1836\",\"type\":\"DaysTicker\"},{\"id\":\"1837\",\"type\":\"DaysTicker\"},{\"id\":\"1838\",\"type\":\"DaysTicker\"},{\"id\":\"1839\",\"type\":\"MonthsTicker\"},{\"id\":\"1840\",\"type\":\"MonthsTicker\"},{\"id\":\"1841\",\"type\":\"MonthsTicker\"},{\"id\":\"1842\",\"type\":\"MonthsTicker\"},{\"id\":\"1843\",\"type\":\"YearsTicker\"}]},\"id\":\"1800\",\"type\":\"DatetimeTicker\"},{\"attributes\":{\"ticker\":{\"id\":\"1800\",\"type\":\"DatetimeTicker\"}},\"id\":\"1803\",\"type\":\"Grid\"},{\"attributes\":{\"days\":[1,4,7,10,13,16,19,22,25,28]},\"id\":\"1836\",\"type\":\"DaysTicker\"},{\"attributes\":{\"bottom_units\":\"screen\",\"fill_alpha\":{\"value\":0.5},\"fill_color\":{\"value\":\"lightgrey\"},\"left_units\":\"screen\",\"level\":\"overlay\",\"line_alpha\":{\"value\":1.0},\"line_color\":{\"value\":\"black\"},\"line_dash\":[4,4],\"line_width\":{\"value\":2},\"render_mode\":\"css\",\"right_units\":\"screen\",\"top_units\":\"screen\"},\"id\":\"1844\",\"type\":\"BoxAnnotation\"},{\"attributes\":{\"axis_label\":\"Date\",\"formatter\":{\"id\":\"1830\",\"type\":\"DatetimeTickFormatter\"},\"ticker\":{\"id\":\"1800\",\"type\":\"DatetimeTicker\"}},\"id\":\"1799\",\"type\":\"DatetimeAxis\"},{\"attributes\":{\"days\":[1,15]},\"id\":\"1838\",\"type\":\"DaysTicker\"},{\"attributes\":{\"months\":[0,1,2,3,4,5,6,7,8,9,10,11]},\"id\":\"1839\",\"type\":\"MonthsTicker\"},{\"attributes\":{},\"id\":\"1797\",\"type\":\"LinearScale\"},{\"attributes\":{},\"id\":\"1858\",\"type\":\"Selection\"},{\"attributes\":{},\"id\":\"1809\",\"type\":\"PanTool\"},{\"attributes\":{},\"id\":\"1814\",\"type\":\"HelpTool\"},{\"attributes\":{},\"id\":\"1843\",\"type\":\"YearsTicker\"},{\"attributes\":{\"callback\":null},\"id\":\"1791\",\"type\":\"DataRange1d\"},{\"attributes\":{},\"id\":\"1857\",\"type\":\"UnionRenderers\"},{\"attributes\":{\"base\":24,\"mantissas\":[1,2,4,6,8,12],\"max_interval\":43200000.0,\"min_interval\":3600000.0,\"num_minor_ticks\":0},\"id\":\"1834\",\"type\":\"AdaptiveTicker\"},{\"attributes\":{\"label\":{\"value\":\"Dystopia\"},\"renderers\":[{\"id\":\"1850\",\"type\":\"GlyphRenderer\"}]},\"id\":\"1872\",\"type\":\"LegendItem\"},{\"attributes\":{},\"id\":\"1810\",\"type\":\"WheelZoomTool\"},{\"attributes\":{\"text\":\"Utopia vs Dystopia\"},\"id\":\"1789\",\"type\":\"Title\"},{\"attributes\":{\"active_drag\":\"auto\",\"active_inspect\":\"auto\",\"active_multi\":null,\"active_scroll\":\"auto\",\"active_tap\":\"auto\",\"tools\":[{\"id\":\"1809\",\"type\":\"PanTool\"},{\"id\":\"1810\",\"type\":\"WheelZoomTool\"},{\"id\":\"1811\",\"type\":\"BoxZoomTool\"},{\"id\":\"1812\",\"type\":\"SaveTool\"},{\"id\":\"1813\",\"type\":\"ResetTool\"},{\"id\":\"1814\",\"type\":\"HelpTool\"}]},\"id\":\"1815\",\"type\":\"Toolbar\"},{\"attributes\":{\"line_color\":\"blue\",\"line_width\":2,\"x\":{\"field\":\"x\"},\"y\":{\"field\":\"y\"}},\"id\":\"1823\",\"type\":\"Line\"},{\"attributes\":{\"source\":{\"id\":\"1822\",\"type\":\"ColumnDataSource\"}},\"id\":\"1826\",\"type\":\"CDSView\"},{\"attributes\":{\"months\":[0,4,8]},\"id\":\"1841\",\"type\":\"MonthsTicker\"},{\"attributes\":{\"label\":{\"value\":\"Utopia\"},\"renderers\":[{\"id\":\"1825\",\"type\":\"GlyphRenderer\"}]},\"id\":\"1846\",\"type\":\"LegendItem\"},{\"attributes\":{\"axis_label\":\"Frequency\",\"formatter\":{\"id\":\"1828\",\"type\":\"BasicTickFormatter\"},\"ticker\":{\"id\":\"1805\",\"type\":\"BasicTicker\"}},\"id\":\"1804\",\"type\":\"LinearAxis\"},{\"attributes\":{\"days\":[1,2,3,4,5,6,7,8,9,10,11,12,13,14,15,16,17,18,19,20,21,22,23,24,25,26,27,28,29,30,31]},\"id\":\"1835\",\"type\":\"DaysTicker\"},{\"attributes\":{\"callback\":null,\"data\":{\"x\":{\"__ndarray__\":\"AABASlFbdEIAAICcS2V0QgAAAInzbnRCAABA2+14dEIAAIAt6IJ0QgAAABqQjHRCAABAbIqWdEIAAMBYMqB0QgAAAKssqnRCAABA/Sa0dEIAAEAeKr10QgAAgHAkx3RCAAAAXczQdEIAAECvxtp0QgAAwJtu5HRCAAAA7mjudEIAAEBAY/h0QgAAwCwLAnVCAAAAfwUMdUIAAIBrrRV1QgAAwL2nH3VCAAAAEKIpdUIAAMCW9zJ1QgAAAOnxPHVCAACA1ZlGdUIAAMAnlFB1QgAAQBQ8WnVCAACAZjZkdUIAAMC4MG51QgAAQKXYd3VCAACA99KBdUIAAADkeot1QgAAQDZ1lXVCAACAiG+fdUIAAICpcqh1QgAAwPtssnVCAABA6BS8dUIAAIA6D8Z1QgAAACe3z3VCAABAebHZdUIAAIDLq+N1QgAAALhT7XVCAABACk73dUIAAMD29QB2QgAAAEnwCnZCAABAm+oUdkIAAEC87R12QgAAgA7oJ3ZCAAAA+48xdkIAAEBNijt2QgAAwDkyRXZCAAAAjCxPdkIAAEDeJll2QgAAwMrOYnZCAAAAHclsdkIAAIAJcXZ2QgAAwFtrgHZCAAAArmWKdkIAAADPaJN2QgAAQCFjnXZCAADADQundkIAAABgBbF2QgAAgEytunZCAADAnqfEdkIAAADxoc52Qg==\",\"dtype\":\"float64\",\"shape\":[65]},\"y\":[4,4,2,5,9,1,4,5,6,11,2,3,2,3,3,9,1,3,4,3,1,1,2,4,0,4,8,12,4,1,1,5,3,6,6,10,2,5,9,5,11,4,6,9,8,6,11,8,17,16,12,15,5,5,14,8,12,16,16,20,12,33,18,18,24]},\"selected\":{\"id\":\"1858\",\"type\":\"Selection\"},\"selection_policy\":{\"id\":\"1857\",\"type\":\"UnionRenderers\"}},\"id\":\"1822\",\"type\":\"ColumnDataSource\"},{\"attributes\":{\"line_alpha\":0.1,\"line_color\":\"#1f77b4\",\"line_width\":2,\"x\":{\"field\":\"x\"},\"y\":{\"field\":\"y\"}},\"id\":\"1849\",\"type\":\"Line\"},{\"attributes\":{\"items\":[{\"id\":\"1846\",\"type\":\"LegendItem\"},{\"id\":\"1872\",\"type\":\"LegendItem\"}],\"location\":\"top_left\",\"title\":\"Comments in r/suggestmeabook that mention:\",\"title_text_font_size\":{\"value\":\"8pt\"},\"title_text_font_style\":\"bold\"},\"id\":\"1845\",\"type\":\"Legend\"},{\"attributes\":{\"data_source\":{\"id\":\"1822\",\"type\":\"ColumnDataSource\"},\"glyph\":{\"id\":\"1823\",\"type\":\"Line\"},\"hover_glyph\":null,\"muted_glyph\":null,\"nonselection_glyph\":{\"id\":\"1824\",\"type\":\"Line\"},\"selection_glyph\":null,\"view\":{\"id\":\"1826\",\"type\":\"CDSView\"}},\"id\":\"1825\",\"type\":\"GlyphRenderer\"},{\"attributes\":{\"callback\":null,\"data\":{\"x\":{\"__ndarray__\":\"AABASlFbdEIAAICcS2V0QgAAAInzbnRCAABA2+14dEIAAIAt6IJ0QgAAABqQjHRCAABAbIqWdEIAAMBYMqB0QgAAAKssqnRCAABA/Sa0dEIAAEAeKr10QgAAgHAkx3RCAAAAXczQdEIAAECvxtp0QgAAwJtu5HRCAAAA7mjudEIAAEBAY/h0QgAAwCwLAnVCAAAAfwUMdUIAAIBrrRV1QgAAwL2nH3VCAAAAEKIpdUIAAMCW9zJ1QgAAAOnxPHVCAACA1ZlGdUIAAMAnlFB1QgAAQBQ8WnVCAACAZjZkdUIAAMC4MG51QgAAQKXYd3VCAACA99KBdUIAAADkeot1QgAAQDZ1lXVCAACAiG+fdUIAAICpcqh1QgAAwPtssnVCAABA6BS8dUIAAIA6D8Z1QgAAACe3z3VCAABAebHZdUIAAIDLq+N1QgAAALhT7XVCAABACk73dUIAAMD29QB2QgAAAEnwCnZCAABAm+oUdkIAAEC87R12QgAAgA7oJ3ZCAAAA+48xdkIAAEBNijt2QgAAwDkyRXZCAAAAjCxPdkIAAEDeJll2QgAAwMrOYnZCAAAAHclsdkIAAIAJcXZ2QgAAwFtrgHZCAAAArmWKdkIAAADPaJN2QgAAQCFjnXZCAADADQundkIAAABgBbF2QgAAgEytunZCAADAnqfEdkIAAADxoc52Qg==\",\"dtype\":\"float64\",\"shape\":[65]},\"y\":[13,9,3,9,24,17,4,11,13,11,29,7,12,11,12,7,9,7,11,6,6,15,10,11,20,12,11,13,12,12,13,10,17,20,19,11,10,8,22,14,13,10,21,17,26,12,17,20,25,25,21,29,15,16,21,22,17,20,25,38,41,50,37,45,40]},\"selected\":{\"id\":\"1947\",\"type\":\"Selection\"},\"selection_policy\":{\"id\":\"1946\",\"type\":\"UnionRenderers\"}},\"id\":\"1847\",\"type\":\"ColumnDataSource\"},{\"attributes\":{},\"id\":\"1812\",\"type\":\"SaveTool\"},{\"attributes\":{\"overlay\":{\"id\":\"1844\",\"type\":\"BoxAnnotation\"}},\"id\":\"1811\",\"type\":\"BoxZoomTool\"},{\"attributes\":{},\"id\":\"1828\",\"type\":\"BasicTickFormatter\"},{\"attributes\":{},\"id\":\"1946\",\"type\":\"UnionRenderers\"}],\"root_ids\":[\"1788\"]},\"title\":\"Bokeh Application\",\"version\":\"1.3.4\"}};\n",
       "  var render_items = [{\"docid\":\"a65ba2fb-7684-4d42-a476-96098e8b9ed3\",\"roots\":{\"1788\":\"7647142a-a703-4a91-927f-b8365894f35d\"}}];\n",
       "  root.Bokeh.embed.embed_items_notebook(docs_json, render_items);\n",
       "\n",
       "  }\n",
       "  if (root.Bokeh !== undefined) {\n",
       "    embed_document(root);\n",
       "  } else {\n",
       "    var attempts = 0;\n",
       "    var timer = setInterval(function(root) {\n",
       "      if (root.Bokeh !== undefined) {\n",
       "        embed_document(root);\n",
       "        clearInterval(timer);\n",
       "      }\n",
       "      attempts++;\n",
       "      if (attempts > 100) {\n",
       "        console.log(\"Bokeh: ERROR: Unable to run BokehJS code because BokehJS library is missing\");\n",
       "        clearInterval(timer);\n",
       "      }\n",
       "    }, 10, root)\n",
       "  }\n",
       "})(window);"
      ],
      "application/vnd.bokehjs_exec.v0+json": ""
     },
     "metadata": {
      "application/vnd.bokehjs_exec.v0+json": {
       "id": "1788"
      }
     },
     "output_type": "display_data"
    }
   ],
   "source": [
    "# Basic Bokeh visualization\n",
    "\n",
    "# Output to current notebook\n",
    "output_notebook()\n",
    "\n",
    "# Create new plot with title and axis labels\n",
    "p = figure(title=\"Utopia vs Dystopia\", x_axis_type=\"datetime\", x_axis_label='Date', y_axis_label='Frequency')\n",
    "\n",
    "# Add a line renderer with legend and line thickness\n",
    "p.line(df_smab_agg[\"month\"], df_smab_agg[\"utopia\"], legend=\"Utopia\", line_width=2, line_color=\"blue\")\n",
    "p.line(df_smab_agg[\"month\"], df_smab_agg[\"dystopia\"], legend=\"Dystopia\", line_width=2, line_color=\"red\")\n",
    "\n",
    "# Style the legend\n",
    "p.legend.location = \"top_left\"\n",
    "p.legend.title = 'Comments in r/suggestmeabook that mention:'\n",
    "p.legend.title_text_font_style = \"bold\"\n",
    "p.legend.title_text_font_size = \"8pt\"\n",
    "\n",
    "# Show the results\n",
    "show(p)"
   ]
  },
  {
   "cell_type": "markdown",
   "metadata": {},
   "source": [
    "---"
   ]
  },
  {
   "cell_type": "markdown",
   "metadata": {},
   "source": [
    "## Saving the Data"
   ]
  },
  {
   "cell_type": "code",
   "execution_count": 120,
   "metadata": {},
   "outputs": [],
   "source": [
    "# Save the joined utopia / dystopia dataset\n",
    "df_to_csv(df_smab_agg, \"suggestmeabook_utopia_dystopia_by_month.csv\")"
   ]
  },
  {
   "cell_type": "code",
   "execution_count": 121,
   "metadata": {},
   "outputs": [],
   "source": [
    "# Create the \"utopia\" comments DataFrame\n",
    "smab_comments_uto = data_df(smab_utopia_dict)"
   ]
  },
  {
   "cell_type": "code",
   "execution_count": 126,
   "metadata": {},
   "outputs": [],
   "source": [
    "# Save the \"utopia\" comments dataset to csv\n",
    "df_to_csv(smab_comments_uto, \"suggestmeabook_utopia_comments.csv\")"
   ]
  },
  {
   "cell_type": "code",
   "execution_count": 124,
   "metadata": {},
   "outputs": [],
   "source": [
    "# Create and save the \"dystopia\" comments dataset\n",
    "smab_comments_dys = data_df(smab_dystopia_dict)"
   ]
  },
  {
   "cell_type": "code",
   "execution_count": 127,
   "metadata": {},
   "outputs": [],
   "source": [
    "# Save the \"dystopia\" comments dataset to csv\n",
    "df_to_csv(smab_comments_dys, \"suggestmeabook_dystopia_comments.csv\")"
   ]
  },
  {
   "cell_type": "markdown",
   "metadata": {},
   "source": [
    "---\n",
    "\n",
    "### Extras"
   ]
  },
  {
   "cell_type": "code",
   "execution_count": null,
   "metadata": {},
   "outputs": [],
   "source": [
    "# TODO: write a function that combines all the above functions\n",
    "# so I can call it once on a subreddit with a certain pair of keywords\n",
    "# And get out the dataframes\n",
    "\n",
    "def reddit_data_setter(keywords, subreddits, frequency=\"month\", aggs=\"created_utc\"):\n",
    "    \"\"\"\n",
    "    Creates two DataFrames that holds combined data of each combination of keyword / subreddit.\n",
    "    \n",
    "    Note: if you're reading this note, that means that this function is still only written\n",
    "    with the intention of automating a specific set of actions for a specific project.\n",
    "    \n",
    "    ---- Arguments ----\n",
    "    keywords: (list) keyword(s) to search.\n",
    "    subreddits: (list) name of subreddit(s) to include.\n",
    "    frequency: (str) set the size of the time buckets.\n",
    "    aggs: (str) aggregate function name. Default is \"created_utc\".\n",
    "    (For more information, read the PushShift API Documentation.)\n",
    "    -------------------\n",
    "    \"\"\"\n",
    "\n",
    "    columns = []  # Empty list to hold column names\n",
    "\n",
    "    # Use itertools to create the columns names\n",
    "    from itertools import product\n",
    "\n",
    "    for column in product(subreddits, keywords):\n",
    "        column = list(column)\n",
    "        col_name = \"_\".join(column)\n",
    "        columns.append(col_name)\n",
    "\n",
    "    # Create an empty DataFrame for the loop below using column names generated above\n",
    "    df_all = pd.DataFrame(columns=columns)\n",
    "    \n",
    "    return df_all\n",
    "\n",
    "# One method of creating the initial dataframe\n",
    "# I ended up using the date column to initiate it"
   ]
  },
  {
   "cell_type": "markdown",
   "metadata": {},
   "source": [
    "Turns out I will have to use the above itertools function to create the columns...maybe. We'll see. Nope. Didn't end up using it."
   ]
  },
  {
   "cell_type": "markdown",
   "metadata": {},
   "source": [
    "---\n",
    "\n",
    "## `reddit_data_setter()` v1.0"
   ]
  },
  {
   "cell_type": "code",
   "execution_count": 130,
   "metadata": {},
   "outputs": [],
   "source": [
    "def reddit_data_setter(keywords, subreddits, csv=False, frequency=\"month\", aggs=\"created_utc\"):\n",
    "    \"\"\"\n",
    "    Creates two DataFrames that holds combined data of each combination of keyword / subreddit.\n",
    "    \n",
    "    Note: if you're reading this note, that means that this function is still only written\n",
    "    with the intention of automating a specific set of actions for a specific project.\n",
    "    \n",
    "    ---- Arguments ----\n",
    "    keywords: (list) keyword(s) to search.\n",
    "    subreddits: (list) name of subreddit(s) to include.\n",
    "    csv: (bool) if True, save the resulting dataframes as csv file.\n",
    "    frequency: (str) set the size of the time buckets.\n",
    "    aggs: (str) aggregate function name. Default is \"created_utc\".\n",
    "    (For more information, read the PushShift API Documentation.)\n",
    "    -------------------\n",
    "    \"\"\"\n",
    "    from time import sleep\n",
    "    from functools import reduce\n",
    "\n",
    "    comment_df_list = []  # Empty list to hold comment dataframes\n",
    "    word_df_list = []  # Empty list to hold monthly word count dataframes\n",
    "    \n",
    "    df_comm = pd.DataFrame()  # Empty dataframe for comment data\n",
    "    df_main = pd.DataFrame()  # Empty dataframe for keyword counts\n",
    "    \n",
    "    # Create the \"month\" (datetime) column - to be used when joining\n",
    "    df_main[\"month\"] = pd.date_range(start=\"2005-01-01\", end=\"2019-09-01\", freq=\"MS\")\n",
    "    \n",
    "    # Loop through keywords and subreddits to create dictionaries for each combination\n",
    "    # subreddit is outer loop because I want to go through list of keywords\n",
    "    # for one subreddit before moving onto the next\n",
    "    for subreddit in subreddits:\n",
    "        \n",
    "        for word in keywords:\n",
    "            # Create column name that matches above / main DataFrame\n",
    "            col_name = f\"{subreddit}_{word}\"\n",
    "            \n",
    "            # Increase sleep time and indicate current subreddit / keyword\n",
    "            print(f\"Starting {col_name}\")\n",
    "            sleep(0.5)\n",
    "            print(\"...\")\n",
    "            print()\n",
    "\n",
    "            # Make request and convert response to dictionary\n",
    "            dictionary = subreddit_agg(word, subreddit)\n",
    "  \n",
    "            # Append aggs word count df to word_df_list\n",
    "            word_df_list.append(time_agg_df(dictionary, col_name))\n",
    "\n",
    "            # Append comments df to comment_df_list\n",
    "            comment_df_list.append(data_df(dictionary))\n",
    "\n",
    "#             # Add subreddit aggregate for keyword to df dict\n",
    "#             word_df_dict[f\"{col_name}\"] = time_agg_df(dictionary, col_name)\n",
    "\n",
    "#             # Append comments df to comment_df_list\n",
    "#             comment_df_dict[f\"{col_name}\"] = data_df(dictionary)\n",
    "            \n",
    "            # Sleep for 1 sec to stay within API limits\n",
    "            print(f\"Finished {col_name}\")\n",
    "            sleep(0.5)\n",
    "            print(\"...\")\n",
    "            sleep(0.5)\n",
    "            print()\n",
    "    \n",
    "    # Set index to month column then concat\n",
    "    df_main = pd.concat([df.set_index(\"month\") for df in word_df_list], axis=1, join=\"outer\").reset_index()\n",
    "    \n",
    "    # Merge word_df_list dataframes into df_main\n",
    "#     df_main = pd.concat(word_df_list, how=\"outer\", axis=1)\n",
    "#     df_main = reduce(lambda x, y: pd.merge(x, y, how=\"outer\", on=\"month\"), word_df_list)\n",
    "    \n",
    "    # Concatenate comment_df_dicts dataframes\n",
    "    df_comm = pd.concat(comment_df_list, sort=False, join=\"outer\", axis=0)\n",
    "        \n",
    "    if csv:\n",
    "        df_to_csv(df_main, f\"monthly-{'_'.join(subreddits)}-{'_'.join(keywords)}.csv\")\n",
    "        df_to_csv(df_comm, \"df_comm.csv\")\n",
    "    \n",
    "    # Return df_main, df_comm, respectively\n",
    "    return df_main, df_comm\n"
   ]
  },
  {
   "cell_type": "code",
   "execution_count": null,
   "metadata": {},
   "outputs": [],
   "source": []
  },
  {
   "cell_type": "code",
   "execution_count": null,
   "metadata": {},
   "outputs": [],
   "source": []
  },
  {
   "cell_type": "code",
   "execution_count": null,
   "metadata": {},
   "outputs": [],
   "source": []
  },
  {
   "cell_type": "code",
   "execution_count": null,
   "metadata": {},
   "outputs": [],
   "source": []
  },
  {
   "cell_type": "code",
   "execution_count": null,
   "metadata": {},
   "outputs": [],
   "source": []
  },
  {
   "cell_type": "code",
   "execution_count": null,
   "metadata": {},
   "outputs": [],
   "source": []
  },
  {
   "cell_type": "code",
   "execution_count": null,
   "metadata": {},
   "outputs": [],
   "source": []
  }
 ],
 "metadata": {
  "kernelspec": {
   "display_name": "Python 3",
   "language": "python",
   "name": "python3"
  },
  "language_info": {
   "codemirror_mode": {
    "name": "ipython",
    "version": 3
   },
   "file_extension": ".py",
   "mimetype": "text/x-python",
   "name": "python",
   "nbconvert_exporter": "python",
   "pygments_lexer": "ipython3",
   "version": "3.7.3"
  }
 },
 "nbformat": 4,
 "nbformat_minor": 4
}
